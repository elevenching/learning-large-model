{
 "cells": [
  {
   "cell_type": "code",
   "execution_count": 1,
   "metadata": {
    "collapsed": true,
    "ExecuteTime": {
     "end_time": "2023-07-14T06:25:35.924096Z",
     "start_time": "2023-07-14T06:25:35.482795Z"
    }
   },
   "outputs": [],
   "source": [
    "import requests\n",
    "import json\n",
    "import os\n",
    "from dotenv import load_dotenv, find_dotenv\n",
    "\n",
    "# read local .env file\n",
    "load_dotenv(find_dotenv())\n",
    "\n",
    "API_KEY = os.environ['ERNIE_API_KEY']\n",
    "SECRET_KEY = os.environ['ERNIE_SECRET_KEY']\n",
    "\n",
    "def get_access_token():\n",
    "    \"\"\"\n",
    "    使用 AK，SK 生成鉴权签名（Access Token）\n",
    "    :return: access_token，或是None(如果错误)\n",
    "    \"\"\"\n",
    "    token_url = \"https://aip.baidubce.com/oauth/2.0/token\"\n",
    "    params = {\"grant_type\": \"client_credentials\", \"client_id\": API_KEY, \"client_secret\": SECRET_KEY}\n",
    "    return str(requests.post(token_url, params=params).json().get(\"access_token\"))\n",
    "\n",
    "url = \"https://aip.baidubce.com/rpc/2.0/ai_custom/v1/wenxinworkshop/chat/eb-instant?access_token=\" + get_access_token()"
   ]
  },
  {
   "cell_type": "code",
   "execution_count": 2,
   "outputs": [],
   "source": [
    "headers = {\n",
    "    'Content-Type': 'application/json'\n",
    "}"
   ],
   "metadata": {
    "collapsed": false,
    "ExecuteTime": {
     "end_time": "2023-07-14T06:25:35.926918Z",
     "start_time": "2023-07-14T06:25:35.925495Z"
    }
   }
  },
  {
   "cell_type": "code",
   "execution_count": 3,
   "outputs": [],
   "source": [
    "payload = json.dumps({\n",
    "    \"messages\": [\n",
    "    ]\n",
    "})\n",
    "payload_dict = json.loads(payload)"
   ],
   "metadata": {
    "collapsed": false,
    "ExecuteTime": {
     "end_time": "2023-07-14T06:25:35.928141Z",
     "start_time": "2023-07-14T06:25:35.925863Z"
    }
   }
  },
  {
   "cell_type": "code",
   "execution_count": 4,
   "outputs": [],
   "source": [
    "def ask(content):\n",
    "    new_query = {\n",
    "        \"role\": \"user\",\n",
    "        \"content\": content\n",
    "    }\n",
    "    payload_dict[\"messages\"].append(new_query)\n",
    "    params = json.dumps(payload_dict)\n",
    "\n",
    "    response = requests.request(\"POST\", url, headers=headers, data=params)\n",
    "    result = json.loads(response.text)['result']\n",
    "\n",
    "    new_history_message = {\n",
    "        \"role\": \"assistant\",\n",
    "        \"content\": result\n",
    "    }\n",
    "    payload_dict[\"messages\"].append(new_history_message)\n",
    "    return result\n",
    "\n",
    "# prompt 没调试好的时候，返回数据会被 markdown 语法渲染，所以需要提取 json\n",
    "def extract_json_from_markdown(md_string):\n",
    "    json_string = md_string.split('```json')[1].split('```')[0].strip()\n",
    "    return json.loads(json_string)"
   ],
   "metadata": {
    "collapsed": false,
    "ExecuteTime": {
     "end_time": "2023-07-14T06:25:35.930895Z",
     "start_time": "2023-07-14T06:25:35.928967Z"
    }
   }
  },
  {
   "cell_type": "code",
   "execution_count": 5,
   "outputs": [
    {
     "name": "stdout",
     "output_type": "stream",
     "text": [
      "人要 是 行 ， 干 一 行 行 一 行 ， 一 行 行 行 行 行 ； \n",
      "\n",
      "要 是不 行 ， 干 一 行 不行 一 行 ， 一 行 不行 行 行 不 行\n"
     ]
    }
   ],
   "source": [
    "question = \"\"\"\n",
    "、、、\n",
    "人要是行，干一行行一行，一行行行行行；\n",
    "\n",
    "要是不行，干一行不行一行,一行不行行行不行\n",
    "、、、\n",
    "请对上面的语句充分理解语义然后进行分词。\n",
    "例如，“干一行行一行”，应该分词为“干一行(hang)”、“行(xing)”、“一行(hang)”。\n",
    "注意，对\"行\"字加上音标，比如 \"一行(hang)\"，\"行行(hanghang)\"。\n",
    "\"\"\"\n",
    "answer = ask(question)\n",
    "print(answer)"
   ],
   "metadata": {
    "collapsed": false,
    "ExecuteTime": {
     "end_time": "2023-07-14T06:25:39.503384Z",
     "start_time": "2023-07-14T06:25:35.933139Z"
    }
   }
  },
  {
   "cell_type": "markdown",
   "source": [
    "### 分词效果一般"
   ],
   "metadata": {
    "collapsed": false
   }
  },
  {
   "cell_type": "code",
   "execution_count": 6,
   "outputs": [
    {
     "name": "stdout",
     "output_type": "stream",
     "text": [
      "自然语言信息提取（NLP）是指从自然语言文本中自动提取有用的信息。NLP在许多领域都有广泛的应用，如自然语言处理、机器翻译、信息检索、问答系统等。\n",
      "\n",
      "自然语言信息提取通常包括以下几个步骤：\n",
      "\n",
      "1. 分词：将自然语言文本分成一个个独立的词语或词组。分词是NLP中最基础也是最关键的步骤之一，因为正确的分词可以极大地影响后续的步骤，如词性标注、句法分析等。\n",
      "2. 词性标注：给定一个词语，标注出其应该使用的词性。例如，“book”应该标注为名词，“like”应该标注为动词。词性标注可以帮助我们更好地理解句子的结构和意义。\n",
      "3. 句法分析：给定一个句子，分析其句法结构，即各个词语之间的语法关系。句法分析可以帮助我们更好地理解句子的意思，并识别出句中的重要信息，如主语、谓语、宾语等。\n",
      "4. 实体识别：识别文本中出现的实体，如人名、地名、组织机构等。实体识别可以帮助我们更好地理解文本中的信息，并在一些应用中，如问答系统和日历应用，可以用来执行一些操作，如拨打电话或发送电子邮件。\n",
      "5. 情感分析：对文本中的情感进行分析，如积极、消极或中立等。情感分析可以帮助我们了解人们对某个话题或事件的看法和态度，从而更好地理解和预测人类行为。\n",
      "\n",
      "训练模型以实现信息提取通常有两种方法：有监督学习和无监督学习。有监督学习需要大量的标注数据，通过训练模型来识别出文本中的各种结构、实体和情感等信息。而无监督学习则不需要大量的标注数据，可以通过聚类、分类等算法来识别出文本中的信息。\n",
      "\n",
      "以电影评论数据集为例，我们可以进行以下信息提取：\n",
      "\n",
      "1. 电影名称：从文本中识别出电影名称。\n",
      "2. 电影演员：识别出电影中的演员，包括演员的姓名和角色。\n",
      "3. 电影导演：识别出电影的导演，包括导演的姓名。\n",
      "4. 电影类型：识别出电影的类型，如动作片、喜剧片、爱情片等。\n",
      "5. 电影评分：识别出电影的评分，通常使用数字表示。\n",
      "6. 电影简介：从文本中提取出电影的故事简介。\n",
      "\n",
      "这些信息都可以通过使用自然语言信息提取技术来自动提取出来。\n"
     ]
    }
   ],
   "source": [
    "question = \"\"\"\n",
    "请提供一个自然语言信息提取的过程。您的回答应该包括以下内容：介绍自然语言信息提取的定义和用途，描述信息提取的步骤，如分词和语法分析，以及解释如何训练模型以实现信息提取。请提供具体的例子和清晰的说明，以便读者能够理解这个过程。\n",
    "\n",
    "请注意，您的回答应该具有一定的灵活性，以允许各种相关但有创意的步骤和技术。\n",
    "\"\"\"\n",
    "answer = ask(question)\n",
    "print(answer)"
   ],
   "metadata": {
    "collapsed": false,
    "ExecuteTime": {
     "end_time": "2023-07-14T06:25:52.617644Z",
     "start_time": "2023-07-14T06:25:39.504296Z"
    }
   }
  },
  {
   "cell_type": "markdown",
   "source": [
    "### 上面的 prompt 是经过 [promptperfect](https://promptperfect.jina.ai/home) 美化的，可以看到结果很不错"
   ],
   "metadata": {
    "collapsed": false
   }
  },
  {
   "cell_type": "code",
   "execution_count": 7,
   "outputs": [
    {
     "name": "stdout",
     "output_type": "stream",
     "text": [
      "[{\"receiverName\": \"刘德华\", \"receiverMobile\": \"13400000000\"}, {\"receiverName\": \"张学友\", \"receiverMobile\": \"13500000000\"}]\n"
     ]
    }
   ],
   "source": [
    "user_content = \"给刘德华（电话13400000000）送一斤吧。还有个叫张学友，电话13500000000也送。好了，下单吧。\"\n",
    "question = f\"\"\"\n",
    "请根据输入信息，通过命名实体识别（NER）抽取特定结构的数据。\n",
    "抽取的数据结构如下：\n",
    "[{{\"receiverName\": \"\", \"receiverMobile\": \"\"}}]\n",
    "\n",
    "输入信息：\n",
    "'''\n",
    "{user_content}\n",
    "'''\n",
    "抽取的数据为：\n",
    "\"\"\"\n",
    "answer = ask(question)\n",
    "print(answer)"
   ],
   "metadata": {
    "collapsed": false,
    "ExecuteTime": {
     "end_time": "2023-07-14T06:25:55.953168Z",
     "start_time": "2023-07-14T06:25:52.618523Z"
    }
   }
  },
  {
   "cell_type": "markdown",
   "source": [
    "### 经过调整 prompt 后，正确抽取了参数。这种情况加上 few-shot 会更好。"
   ],
   "metadata": {
    "collapsed": false
   }
  },
  {
   "cell_type": "code",
   "execution_count": 8,
   "outputs": [
    {
     "name": "stdout",
     "output_type": "stream",
     "text": [
      "您最初问的问题是：\"、、、人要是行，干一行行一行，一行行行行行；要是不行，干一行不行一行,一行不行行行不行\"\n"
     ]
    }
   ],
   "source": [
    "question = \"我最开始问你的问题是什么？\"\n",
    "answer = ask(question)\n",
    "print(answer)"
   ],
   "metadata": {
    "collapsed": false,
    "ExecuteTime": {
     "end_time": "2023-07-14T06:25:59.260154Z",
     "start_time": "2023-07-14T06:25:55.954617Z"
    }
   }
  },
  {
   "cell_type": "markdown",
   "source": [
    "### 自动精简了第一个问题的内容，但是不够完整"
   ],
   "metadata": {
    "collapsed": false
   }
  },
  {
   "cell_type": "code",
   "execution_count": 9,
   "outputs": [
    {
     "name": "stdout",
     "output_type": "stream",
     "text": [
      "{'messages': [{'content': '\\n'\n",
      "                          '、、、\\n'\n",
      "                          '人要是行，干一行行一行，一行行行行行；\\n'\n",
      "                          '\\n'\n",
      "                          '要是不行，干一行不行一行,一行不行行行不行\\n'\n",
      "                          '、、、\\n'\n",
      "                          '请对上面的语句充分理解语义然后进行分词。\\n'\n",
      "                          '例如，“干一行行一行”，应该分词为“干一行(hang)”、“行(xing)”、“一行(hang)”。\\n'\n",
      "                          '注意，对\"行\"字加上音标，比如 \"一行(hang)\"，\"行行(hanghang)\"。\\n',\n",
      "               'role': 'user'},\n",
      "              {'content': '人要 是 行 ， 干 一 行 行 一 行 ， 一 行 行 行 行 行 ； \\n'\n",
      "                          '\\n'\n",
      "                          '要 是不 行 ， 干 一 行 不行 一 行 ， 一 行 不行 行 行 不 行',\n",
      "               'role': 'assistant'},\n",
      "              {'content': '\\n'\n",
      "                          '请提供一个自然语言信息提取的过程。您的回答应该包括以下内容：介绍自然语言信息提取的定义和用途，描述信息提取的步骤，如分词和语法分析，以及解释如何训练模型以实现信息提取。请提供具体的例子和清晰的说明，以便读者能够理解这个过程。\\n'\n",
      "                          '\\n'\n",
      "                          '请注意，您的回答应该具有一定的灵活性，以允许各种相关但有创意的步骤和技术。\\n',\n",
      "               'role': 'user'},\n",
      "              {'content': '自然语言信息提取（NLP）是指从自然语言文本中自动提取有用的信息。NLP在许多领域都有广泛的应用，如自然语言处理、机器翻译、信息检索、问答系统等。\\n'\n",
      "                          '\\n'\n",
      "                          '自然语言信息提取通常包括以下几个步骤：\\n'\n",
      "                          '\\n'\n",
      "                          '1. '\n",
      "                          '分词：将自然语言文本分成一个个独立的词语或词组。分词是NLP中最基础也是最关键的步骤之一，因为正确的分词可以极大地影响后续的步骤，如词性标注、句法分析等。\\n'\n",
      "                          '2. '\n",
      "                          '词性标注：给定一个词语，标注出其应该使用的词性。例如，“book”应该标注为名词，“like”应该标注为动词。词性标注可以帮助我们更好地理解句子的结构和意义。\\n'\n",
      "                          '3. '\n",
      "                          '句法分析：给定一个句子，分析其句法结构，即各个词语之间的语法关系。句法分析可以帮助我们更好地理解句子的意思，并识别出句中的重要信息，如主语、谓语、宾语等。\\n'\n",
      "                          '4. '\n",
      "                          '实体识别：识别文本中出现的实体，如人名、地名、组织机构等。实体识别可以帮助我们更好地理解文本中的信息，并在一些应用中，如问答系统和日历应用，可以用来执行一些操作，如拨打电话或发送电子邮件。\\n'\n",
      "                          '5. '\n",
      "                          '情感分析：对文本中的情感进行分析，如积极、消极或中立等。情感分析可以帮助我们了解人们对某个话题或事件的看法和态度，从而更好地理解和预测人类行为。\\n'\n",
      "                          '\\n'\n",
      "                          '训练模型以实现信息提取通常有两种方法：有监督学习和无监督学习。有监督学习需要大量的标注数据，通过训练模型来识别出文本中的各种结构、实体和情感等信息。而无监督学习则不需要大量的标注数据，可以通过聚类、分类等算法来识别出文本中的信息。\\n'\n",
      "                          '\\n'\n",
      "                          '以电影评论数据集为例，我们可以进行以下信息提取：\\n'\n",
      "                          '\\n'\n",
      "                          '1. 电影名称：从文本中识别出电影名称。\\n'\n",
      "                          '2. 电影演员：识别出电影中的演员，包括演员的姓名和角色。\\n'\n",
      "                          '3. 电影导演：识别出电影的导演，包括导演的姓名。\\n'\n",
      "                          '4. 电影类型：识别出电影的类型，如动作片、喜剧片、爱情片等。\\n'\n",
      "                          '5. 电影评分：识别出电影的评分，通常使用数字表示。\\n'\n",
      "                          '6. 电影简介：从文本中提取出电影的故事简介。\\n'\n",
      "                          '\\n'\n",
      "                          '这些信息都可以通过使用自然语言信息提取技术来自动提取出来。',\n",
      "               'role': 'assistant'},\n",
      "              {'content': '\\n'\n",
      "                          '请根据输入信息，通过命名实体识别（NER）抽取特定结构的数据。\\n'\n",
      "                          '抽取的数据结构如下：\\n'\n",
      "                          '[{\"receiverName\": \"\", \"receiverMobile\": \"\"}]\\n'\n",
      "                          '\\n'\n",
      "                          '输入信息：\\n'\n",
      "                          \"'''\\n\"\n",
      "                          '给刘德华（电话13400000000）送一斤吧。还有个叫张学友，电话13500000000也送。好了，下单吧。\\n'\n",
      "                          \"'''\\n\"\n",
      "                          '抽取的数据为：\\n',\n",
      "               'role': 'user'},\n",
      "              {'content': '[{\"receiverName\": \"刘德华\", \"receiverMobile\": '\n",
      "                          '\"13400000000\"}, {\"receiverName\": \"张学友\", '\n",
      "                          '\"receiverMobile\": \"13500000000\"}]',\n",
      "               'role': 'assistant'},\n",
      "              {'content': '我最开始问你的问题是什么？', 'role': 'user'},\n",
      "              {'content': '您最初问的问题是：\"、、、人要是行，干一行行一行，一行行行行行；要是不行，干一行不行一行,一行不行行行不行\"',\n",
      "               'role': 'assistant'}]}\n"
     ]
    }
   ],
   "source": [
    "from pprint import pprint\n",
    "pprint(payload_dict)"
   ],
   "metadata": {
    "collapsed": false,
    "ExecuteTime": {
     "end_time": "2023-07-14T06:25:59.261167Z",
     "start_time": "2023-07-14T06:25:59.254775Z"
    }
   }
  },
  {
   "cell_type": "code",
   "execution_count": 9,
   "outputs": [],
   "source": [],
   "metadata": {
    "collapsed": false,
    "ExecuteTime": {
     "end_time": "2023-07-14T06:25:59.261233Z",
     "start_time": "2023-07-14T06:25:59.257062Z"
    }
   }
  }
 ],
 "metadata": {
  "kernelspec": {
   "display_name": "Python 3",
   "language": "python",
   "name": "python3"
  },
  "language_info": {
   "codemirror_mode": {
    "name": "ipython",
    "version": 2
   },
   "file_extension": ".py",
   "mimetype": "text/x-python",
   "name": "python",
   "nbconvert_exporter": "python",
   "pygments_lexer": "ipython2",
   "version": "2.7.6"
  }
 },
 "nbformat": 4,
 "nbformat_minor": 0
}
