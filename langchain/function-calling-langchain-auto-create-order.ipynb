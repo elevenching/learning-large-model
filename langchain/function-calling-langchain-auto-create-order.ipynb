{
 "cells": [
  {
   "cell_type": "markdown",
   "metadata": {},
   "source": [
    "# 使用 function-calling 让非结构化数据自动创建订单\n",
    "\n",
    "* 先看一下 OpenAI API 的 [function-calling-openai](./function-calling-openai-example.ipynb) 示例\n",
    "* 基于 OpenAI API 实现自动创建订单 [openai-auto-create-order](./function-calling-openai-auto-create-order.ipynb)\n",
    "* 基于 langchain 实现自动创建订单 [langchain-auto-create-order](./function-calling-langchain-auto-create-order.ipynb)\n",
    "\n",
    "## 背景\n",
    "客户为了快速下单，会把订单信息先录入 Excel 文档，然后通过 Excel 文档导入的方式批量创建订单。\n",
    "但是不同客户可能有自己的订单格式，比如收件人姓名、收件人电话等，这些信息在客户一方的列名、顺序可能不一样。\n",
    "但为了下单，需要把信息转换为我们的订单格式。\n",
    "以前几乎都是通过人工的方式来适配我们的订单格式。\n",
    "\n",
    "## 解决方案\n",
    "这是一个典型的数据转换问题，可以通过命名实体识别（NER）来解决。\n",
    "流程是：\n",
    "1. 通过命名实体识别抽取数据中特定的参数\n",
    "2. 用命名实体识别抽取的参数创建订单\n",
    "\n",
    "在以前，要进行 NER，需要定制开发工具，或者通过人工标注数据，然后训练模型。\n",
    "\n",
    "现在可以通过 LLM(OpenAI API) 来解决，只需要提供示例与数据，OpenAI API 就可以自动完成 NER。\n",
    "\n",
    "并且，在 2023-06-13 发布的 [gpt-3.5-turbo-16k-0613](https://beta.openai.com/models/gpt3/versions/3.5-turbo-16k-0613) 模型中，OpenAI API 支持 function-calling，并且能自动提取非结构化数据，然后大模型可以自行分析应该调用哪个 function。\n",
    "\n",
    "这样就能做到载入客户数据（Excel、CSV、JSON、XML、自然语言等），然后通过 function-calling 自动调用软件已有的功能，完成订单创建。\n",
    "\n",
    "## 进一步思考\n",
    "从现在的测试来看，微调过后的新版本，能自动做 NER 然后自动选择要调用的 function。\n",
    "\n",
    "这里核心解决了两个问题：\n",
    "1. 信息识别与转换\n",
    "2. 信息链接\n",
    "\n",
    "这里有很大的想象空间"
   ]
  },
  {
   "cell_type": "code",
   "execution_count": 11,
   "metadata": {
    "ExecuteTime": {
     "end_time": "2023-07-01T19:32:37.882169Z",
     "start_time": "2023-07-01T19:32:37.848029Z"
    }
   },
   "outputs": [],
   "source": [
    "from langchain.agents import initialize_agent\n",
    "from langchain.agents import AgentType"
   ]
  },
  {
   "cell_type": "code",
   "execution_count": 12,
   "metadata": {
    "ExecuteTime": {
     "end_time": "2023-07-01T19:32:37.882683Z",
     "start_time": "2023-07-01T19:32:37.850974Z"
    }
   },
   "outputs": [
    {
     "name": "stdout",
     "output_type": "stream",
     "text": [
      "[Document(page_content='客户订单号: GO202001013\\n线路标识: \\n收货地址: 火炬动力港\\n收件人姓名: 运荔枝\\n收件人电话号码: 12345678900\\n货品: 肉制品\\n数量（件数）: 1\\n总重量（KG): \\n总体积（m³）: \\n总货值（元）: \\n温层: 冷藏\\n车型: \\n取货地址: \\n取货人姓名: \\n取货人电话号码: \\n提货时间: 2023/5/6 16:00\\n送货时间: 2023/5/6 23:00\\n备注: ', metadata={'source': '/Users/chenjun/Downloads/test-order.csv', 'row': 0}), Document(page_content='客户订单号: GO202001013\\n线路标识: \\n收货地址: 火炬动力港\\n收件人姓名: 鲜生活\\n收件人电话号码: 13409871234\\n货品: 肉制品\\n数量（件数）: 1\\n总重量（KG): \\n总体积（m³）: \\n总货值（元）: \\n温层: 冷藏\\n车型: \\n取货地址: \\n取货人姓名: \\n取货人电话号码: \\n提货时间: 2023/5/6 16:00\\n送货时间: 2023/5/6 23:00\\n备注: ', metadata={'source': '/Users/chenjun/Downloads/test-order.csv', 'row': 1})]\n"
     ]
    }
   ],
   "source": [
    "from langchain.document_loaders.csv_loader import CSVLoader\n",
    "\n",
    "file_path = \"/Users/chenjun/Downloads/test-order.csv\"\n",
    "\n",
    "loader = CSVLoader(file_path)\n",
    "data = loader.load()\n",
    "print(data)\n",
    "# 把 data 数组中的所有文档的 page_content 抽取出来\n",
    "texts = [doc.page_content for doc in data]"
   ]
  },
  {
   "cell_type": "code",
   "execution_count": 13,
   "metadata": {
    "ExecuteTime": {
     "end_time": "2023-07-01T19:32:37.882743Z",
     "start_time": "2023-07-01T19:32:37.854846Z"
    }
   },
   "outputs": [
    {
     "name": "stdout",
     "output_type": "stream",
     "text": [
      "客户订单号: GO202001013\n",
      "线路标识: \n",
      "收货地址: 火炬动力港\n",
      "收件人姓名: 运荔枝\n",
      "收件人电话号码: 12345678900\n",
      "货品: 肉制品\n",
      "数量（件数）: 1\n",
      "总重量（KG): \n",
      "总体积（m³）: \n",
      "总货值（元）: \n",
      "温层: 冷藏\n",
      "车型: \n",
      "取货地址: \n",
      "取货人姓名: \n",
      "取货人电话号码: \n",
      "提货时间: 2023/5/6 16:00\n",
      "送货时间: 2023/5/6 23:00\n",
      "备注: 。客户订单号: GO202001013\n",
      "线路标识: \n",
      "收货地址: 火炬动力港\n",
      "收件人姓名: 鲜生活\n",
      "收件人电话号码: 13409871234\n",
      "货品: 肉制品\n",
      "数量（件数）: 1\n",
      "总重量（KG): \n",
      "总体积（m³）: \n",
      "总货值（元）: \n",
      "温层: 冷藏\n",
      "车型: \n",
      "取货地址: \n",
      "取货人姓名: \n",
      "取货人电话号码: \n",
      "提货时间: 2023/5/6 16:00\n",
      "送货时间: 2023/5/6 23:00\n",
      "备注: 。给刘德华（电话13400000000）送一斤吧。还有个叫张学友，电话13500000000也送。货多，不怕。哎，有个黎明，手机13600000000的是不是也应该送一斤啊？两斤吧。最后，住在灯球下的郭富城也送一单，电话是13700000000。好了，下单吧。\n"
     ]
    }
   ],
   "source": [
    "# texts = ['给刘德华（电话13400000000）发一件吧',\n",
    "#          '收货人：张学友，电话：13500000000',\n",
    "#          '\\{\"姓名\":\"黎明\", \"手机号\":\"13600000000\"\\}',\n",
    "#          '住在灯球下的郭富城，给他送一斤粉条，电话是13700000000，地址是，地址是灯球下']\n",
    "texts = '。'.join(texts) + '。给刘德华（电话13400000000）送一斤吧。还有个叫张学友，电话13500000000也送。货多，不怕。哎，有个黎明，手机13600000000的是不是也应该送一斤啊？两斤吧。最后，住在灯球下的郭富城也送一单，电话是13700000000。好了，下单吧。'\n",
    "print(texts)"
   ]
  },
  {
   "cell_type": "code",
   "execution_count": 14,
   "metadata": {
    "ExecuteTime": {
     "end_time": "2023-07-01T19:32:37.898303Z",
     "start_time": "2023-07-01T19:32:37.858162Z"
    }
   },
   "outputs": [],
   "source": [
    "import os\n",
    "from dotenv import load_dotenv, find_dotenv\n",
    "from MultiChatOpenAI import MultiChatOpenAI\n",
    "\n",
    "load_dotenv(find_dotenv()) # read local .env file\n",
    "# 导入 OpenAI API_KEY\n",
    "# openai.api_key = os.environ['OPENAI_API_KEY']\n",
    "\n",
    "model = 'gpt-3.5-turbo-16k-0613'\n",
    "\n",
    "key1 = os.environ['OPENAI_API_KEY']\n",
    "key2 = os.environ['OPENAI_API_KEY2']\n",
    "\n",
    "llm = MultiChatOpenAI(keys=[key1, key2], model=model, temperature=0, verbose=True)"
   ]
  },
  {
   "cell_type": "code",
   "execution_count": 15,
   "metadata": {
    "ExecuteTime": {
     "end_time": "2023-07-01T19:32:37.898467Z",
     "start_time": "2023-07-01T19:32:37.862712Z"
    }
   },
   "outputs": [],
   "source": [
    "from langchain import PromptTemplate\n",
    "from langchain.tools import tool\n",
    "\n",
    "\n",
    "tools = [\n",
    "]"
   ]
  },
  {
   "cell_type": "code",
   "execution_count": 16,
   "metadata": {
    "ExecuteTime": {
     "end_time": "2023-07-01T19:32:37.898522Z",
     "start_time": "2023-07-01T19:32:37.864550Z"
    }
   },
   "outputs": [],
   "source": [
    "# 尝试主动做 NER\n",
    "# @tool(\"do_ner\")\n",
    "# def do_ner(ner_input):\n",
    "#     \"\"\"通过命名实体识别抽取数据中特定格式实体信息\"\"\"\n",
    "#     ner_output_template = \"\"\" [\n",
    "#         {\n",
    "#             \"receiverName\": \"张三\",\n",
    "#             \"receiverMobile\": \"13800000000\"\n",
    "#         },\n",
    "#         {\n",
    "#             \"receiverName\": \"李四\",\n",
    "#             \"receiverMobile\": \"13800000001\"\n",
    "#         }\n",
    "#      ]\"\"\"\n",
    "#\n",
    "#     template = \"\"\"\n",
    "#     请严格按照抽取格式返回数据，不得抽取多的实体信息，如果指定的实体信息缺失，可以设置空值。\n",
    "#     抽取格式：\n",
    "#     {ner_template}\n",
    "#     数据：\n",
    "#     {texts}\n",
    "#     \"\"\"\n",
    "#\n",
    "#     prompt = PromptTemplate.from_template(template)\n",
    "#     format_str = prompt.format(ner_template=ner_output_template, texts=ner_input)\n",
    "#\n",
    "#     messages = [\n",
    "#         SystemMessage(\n",
    "#             content=\"你是一个命名实体识别模型。我会给你抽取格式与数据，请根据示例格式抽取数据中的信息返回。\"\n",
    "#         ),\n",
    "#         HumanMessage(\n",
    "#             content=format_str\n",
    "#         ),\n",
    "#     ]\n",
    "#     results = llm.predict_messages(messages)\n",
    "#     content = results.content\n",
    "#     # 把字符串 content 转换为 JSON 对象\n",
    "#     content = json.loads(content)\n",
    "#     return content\n",
    "# tools.append(do_ner)"
   ]
  },
  {
   "cell_type": "code",
   "execution_count": 17,
   "metadata": {
    "ExecuteTime": {
     "end_time": "2023-07-01T19:32:37.898629Z",
     "start_time": "2023-07-01T19:32:37.869760Z"
    }
   },
   "outputs": [
    {
     "name": "stdout",
     "output_type": "stream",
     "text": [
      "{'title': 'create_orderSchemaSchema', 'type': 'object', 'properties': {'orders': {'title': 'Orders'}}, 'required': ['orders']}\n"
     ]
    }
   ],
   "source": [
    "@tool(\"create_order\")\n",
    "def create_order(orders):\n",
    "    \"\"\"用给定的参数创建订单 参数为 [{'receiverName': '', 'receiverMobile': ''}]\"\"\"\n",
    "    print(orders)\n",
    "    for order_info in orders:\n",
    "        receiver_name = order_info[\"receiverName\"]\n",
    "        receiver_mobile = order_info[\"receiverMobile\"]\n",
    "        print(f'create order for  {receiver_name}/{receiver_mobile}\\n')\n",
    "    return \"订单创建成功!!!!!!!!\"\n",
    "\n",
    "tools.append(create_order)\n",
    "print(create_order.args_schema.schema())"
   ]
  },
  {
   "cell_type": "code",
   "execution_count": 18,
   "metadata": {
    "ExecuteTime": {
     "end_time": "2023-07-01T19:32:37.898680Z",
     "start_time": "2023-07-01T19:32:37.871935Z"
    }
   },
   "outputs": [],
   "source": [
    "# 创建 tool 的另一种方式\n",
    "# tools = [\n",
    "#     Tool(\n",
    "#         name = \"do_ner\",\n",
    "#         func=do_ner,\n",
    "#         description=\"通过命名实体识别抽取数据中特定的参数\"\n",
    "#     ),\n",
    "#     Tool(\n",
    "#         name=\"create_order\",\n",
    "#         func=create_order,\n",
    "#         description=\"用给定的参数创建订单\"\n",
    "#     )\n",
    "# ]\n",
    "#\n",
    "# functions = [format_tool_to_openai_function(t) for t in tools]\n",
    "# print(functions)"
   ]
  },
  {
   "cell_type": "code",
   "execution_count": 19,
   "metadata": {
    "ExecuteTime": {
     "end_time": "2023-07-01T19:32:37.898738Z",
     "start_time": "2023-07-01T19:32:37.874523Z"
    }
   },
   "outputs": [
    {
     "name": "stdout",
     "output_type": "stream",
     "text": [
      "\n",
      "请根据给出的信息抽取相应的参数创建订单\n",
      "1. 通过命名实体识别先对输入的信息抽取特定的参数。抽取的数据结构如下：\n",
      "[{\"receiverName\": \"\", \"receiverMobile\": \"\"}]\n",
      "2. 请用命名实体识别抽取的数组参数，不做任何修改使用创建订单接口创建订单\n",
      "\n",
      "输入信息：\n",
      "'''\n",
      "客户订单号: GO202001013\n",
      "线路标识: \n",
      "收货地址: 火炬动力港\n",
      "收件人姓名: 运荔枝\n",
      "收件人电话号码: 12345678900\n",
      "货品: 肉制品\n",
      "数量（件数）: 1\n",
      "总重量（KG): \n",
      "总体积（m³）: \n",
      "总货值（元）: \n",
      "温层: 冷藏\n",
      "车型: \n",
      "取货地址: \n",
      "取货人姓名: \n",
      "取货人电话号码: \n",
      "提货时间: 2023/5/6 16:00\n",
      "送货时间: 2023/5/6 23:00\n",
      "备注: 。客户订单号: GO202001013\n",
      "线路标识: \n",
      "收货地址: 火炬动力港\n",
      "收件人姓名: 鲜生活\n",
      "收件人电话号码: 13409871234\n",
      "货品: 肉制品\n",
      "数量（件数）: 1\n",
      "总重量（KG): \n",
      "总体积（m³）: \n",
      "总货值（元）: \n",
      "温层: 冷藏\n",
      "车型: \n",
      "取货地址: \n",
      "取货人姓名: \n",
      "取货人电话号码: \n",
      "提货时间: 2023/5/6 16:00\n",
      "送货时间: 2023/5/6 23:00\n",
      "备注: 。给刘德华（电话13400000000）送一斤吧。还有个叫张学友，电话13500000000也送。货多，不怕。哎，有个黎明，手机13600000000的是不是也应该送一斤啊？两斤吧。最后，住在灯球下的郭富城也送一单，电话是13700000000。好了，下单吧。\n",
      "'''\n",
      "\n"
     ]
    }
   ],
   "source": [
    "question = \"\"\"\n",
    "请根据给出的信息抽取相应的参数创建订单\n",
    "1. 通过命名实体识别先对输入的信息抽取特定的参数。抽取的数据结构如下：\n",
    "[{{\"receiverName\": \"\", \"receiverMobile\": \"\"}}]\n",
    "2. 请用命名实体识别抽取的数组参数，不做任何修改使用创建订单接口创建订单\n",
    "\n",
    "输入信息：\n",
    "'''\n",
    "{texts}\n",
    "'''\n",
    "\"\"\"\n",
    "question_prompt = PromptTemplate.from_template(question)\n",
    "question_format_str = question_prompt.format(texts=texts)\n",
    "print(question_format_str)"
   ]
  },
  {
   "cell_type": "code",
   "execution_count": 20,
   "metadata": {
    "ExecuteTime": {
     "end_time": "2023-07-01T19:32:37.898766Z",
     "start_time": "2023-07-01T19:32:37.876617Z"
    }
   },
   "outputs": [],
   "source": [
    "# 直接使用 OpenAI\n",
    "# message = llm.predict_messages(\n",
    "#     [HumanMessage(content=question_format_str)], functions=functions\n",
    "# )\n",
    "# print(message)"
   ]
  },
  {
   "cell_type": "code",
   "execution_count": 21,
   "metadata": {
    "ExecuteTime": {
     "end_time": "2023-07-01T19:32:37.899577Z",
     "start_time": "2023-07-01T19:32:37.881784Z"
    }
   },
   "outputs": [],
   "source": [
    "agent = initialize_agent(tools, llm, agent=AgentType.OPENAI_MULTI_FUNCTIONS, verbose=True)"
   ]
  },
  {
   "cell_type": "code",
   "execution_count": 22,
   "metadata": {
    "ExecuteTime": {
     "end_time": "2023-07-01T19:32:43.281854Z",
     "start_time": "2023-07-01T19:32:37.884960Z"
    }
   },
   "outputs": [
    {
     "name": "stdout",
     "output_type": "stream",
     "text": [
      "\n",
      "\n",
      "\u001B[1m> Entering new  chain...\u001B[0m\n",
      "\u001B[32;1m\u001B[1;3m\n",
      "Invoking: `create_order` with `{'orders': [{'receiverName': '运荔枝', 'receiverMobile': '12345678900'}, {'receiverName': '鲜生活', 'receiverMobile': '13409871234'}, {'receiverName': '刘德华', 'receiverMobile': '13400000000'}, {'receiverName': '张学友', 'receiverMobile': '13500000000'}, {'receiverName': '黎明', 'receiverMobile': '13600000000'}, {'receiverName': '郭富城', 'receiverMobile': '13700000000'}]}`\n",
      "\n",
      "\n",
      "\u001B[0m[{'receiverName': '运荔枝', 'receiverMobile': '12345678900'}, {'receiverName': '鲜生活', 'receiverMobile': '13409871234'}, {'receiverName': '刘德华', 'receiverMobile': '13400000000'}, {'receiverName': '张学友', 'receiverMobile': '13500000000'}, {'receiverName': '黎明', 'receiverMobile': '13600000000'}, {'receiverName': '郭富城', 'receiverMobile': '13700000000'}]\n",
      "create order for  运荔枝/12345678900\n",
      "\n",
      "create order for  鲜生活/13409871234\n",
      "\n",
      "create order for  刘德华/13400000000\n",
      "\n",
      "create order for  张学友/13500000000\n",
      "\n",
      "create order for  黎明/13600000000\n",
      "\n",
      "create order for  郭富城/13700000000\n",
      "\n",
      "\u001B[36;1m\u001B[1;3m订单创建成功!!!!!!!!\u001B[0m\u001B[32;1m\u001B[1;3m订单已成功创建！\u001B[0m\n",
      "\n",
      "\u001B[1m> Finished chain.\u001B[0m\n"
     ]
    },
    {
     "data": {
      "text/plain": "'订单已成功创建！'"
     },
     "execution_count": 22,
     "metadata": {},
     "output_type": "execute_result"
    }
   ],
   "source": [
    "agent.run(question_format_str)"
   ]
  }
 ],
 "metadata": {
  "kernelspec": {
   "display_name": "Python 3 (ipykernel)",
   "language": "python",
   "name": "python3"
  },
  "language_info": {
   "codemirror_mode": {
    "name": "ipython",
    "version": 3
   },
   "file_extension": ".py",
   "mimetype": "text/x-python",
   "name": "python",
   "nbconvert_exporter": "python",
   "pygments_lexer": "ipython3",
   "version": "3.11.3"
  }
 },
 "nbformat": 4,
 "nbformat_minor": 1
}
