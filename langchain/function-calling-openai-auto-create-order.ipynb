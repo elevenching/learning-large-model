{
 "cells": [
  {
   "cell_type": "code",
   "execution_count": 1,
   "metadata": {
    "collapsed": true,
    "ExecuteTime": {
     "end_time": "2023-07-01T19:34:44.861342Z",
     "start_time": "2023-07-01T19:34:44.693967Z"
    }
   },
   "outputs": [],
   "source": [
    "import os\n",
    "import openai\n",
    "# 运行此API配置，需要将目录中的.env中api_key替换为自己的\n",
    "from dotenv import load_dotenv, find_dotenv\n",
    "_ = load_dotenv(find_dotenv()) # read local .env file\n",
    "# 导入 OpenAI API_KEY\n",
    "openai.api_key = os.environ['OPENAI_API_KEY']"
   ]
  },
  {
   "cell_type": "code",
   "execution_count": 2,
   "metadata": {
    "ExecuteTime": {
     "end_time": "2023-07-01T19:34:44.868957Z",
     "start_time": "2023-07-01T19:34:44.864814Z"
    }
   },
   "outputs": [],
   "source": [
    "function_descriptions = [\n",
    "    {\n",
    "        \"name\": \"create_order\",\n",
    "        \"description\": \"用给定的参数创建订单\",\n",
    "        \"parameters\": {\n",
    "            \"type\": \"object\",\n",
    "            \"properties\": {\n",
    "                \"orders\": {\n",
    "                    \"type\": \"string\",\n",
    "                    \"description\": \"识别的待创建订单的参数。参数的结构为 [{'receiverName': '', 'receiverMobile': ''}]\",\n",
    "                },\n",
    "            },\n",
    "            \"required\": [\"orders\"],\n",
    "        },\n",
    "    }\n",
    "]"
   ]
  },
  {
   "cell_type": "code",
   "execution_count": 3,
   "metadata": {
    "ExecuteTime": {
     "end_time": "2023-07-01T19:34:44.877060Z",
     "start_time": "2023-07-01T19:34:44.871211Z"
    }
   },
   "outputs": [],
   "source": [
    "user_content = \"给刘德华（电话13400000000）送一斤吧。还有个叫张学友，电话13500000000也送。好了，下单吧。\"\n",
    "user_query = f\"\"\"请根据给出的信息抽取相应的参数创建订单\n",
    "1. 通过命名实体识别先对输入的信息抽取特定的参数。抽取的数据结构如下：\n",
    "[{{\"receiverName\": \"\", \"receiverMobile\": \"\"}}]\n",
    "2. 请用命名实体识别抽取的数组参数，不做任何修改使用创建订单接口创建订单\n",
    "\n",
    "输入信息：\n",
    "'''\n",
    "{user_content}\n",
    "'''\n",
    "\"\"\""
   ]
  },
  {
   "cell_type": "code",
   "execution_count": 4,
   "metadata": {
    "ExecuteTime": {
     "end_time": "2023-07-01T19:34:46.588667Z",
     "start_time": "2023-07-01T19:34:44.880540Z"
    }
   },
   "outputs": [],
   "source": [
    "import openai\n",
    "\n",
    "model = 'gpt-3.5-turbo-16k-0613'\n",
    "response = openai.ChatCompletion.create(\n",
    "    model=model,\n",
    "    messages=[{\"role\": \"user\", \"content\": user_query}],\n",
    "    functions=function_descriptions,\n",
    "    function_call=\"auto\"\n",
    ")\n"
   ]
  },
  {
   "cell_type": "code",
   "execution_count": 5,
   "metadata": {
    "ExecuteTime": {
     "end_time": "2023-07-01T19:34:46.592867Z",
     "start_time": "2023-07-01T19:34:46.590434Z"
    }
   },
   "outputs": [
    {
     "name": "stdout",
     "output_type": "stream",
     "text": [
      "{'role': 'assistant', 'content': None, 'function_call': {'name': 'create_order', 'arguments': '{\\n  \"orders\": \"[{\\\\\"receiverName\\\\\": \\\\\"刘德华\\\\\", \\\\\"receiverMobile\\\\\": \\\\\"13400000000\\\\\"}, {\\\\\"receiverName\\\\\": \\\\\"张学友\\\\\", \\\\\"receiverMobile\\\\\": \\\\\"13500000000\\\\\"}]\"\\n}'}}\n"
     ]
    }
   ],
   "source": [
    "import json\n",
    "ai_response_message = response[\"choices\"][0][\"message\"]\n",
    "dumps = json.dumps(ai_response_message, ensure_ascii=False, indent=2)\n",
    "ai_response_message = json.loads(dumps)\n",
    "print(ai_response_message)"
   ]
  },
  {
   "cell_type": "code",
   "execution_count": 6,
   "metadata": {
    "ExecuteTime": {
     "end_time": "2023-07-01T19:34:46.595957Z",
     "start_time": "2023-07-01T19:34:46.594540Z"
    }
   },
   "outputs": [],
   "source": [
    "import json\n",
    "import inspect\n",
    "\n",
    "def get_function_parameter_names(function):\n",
    "  if function is not None and inspect.isfunction(function):\n",
    "      parameter_names = inspect.signature(function).parameters.keys()\n",
    "      return list(parameter_names)\n",
    "  else:\n",
    "      return None"
   ]
  },
  {
   "cell_type": "code",
   "execution_count": 7,
   "outputs": [],
   "source": [
    "def create_order(orders):\n",
    "    \"\"\"用给定的参数创建订单 参数为 [{'receiverName': '', 'receiverMobile': ''}]\"\"\"\n",
    "    print(orders)\n",
    "    # orders 为字符串，需要转换为 list 对象\n",
    "    orders = json.loads(orders)\n",
    "    for order_info in orders:\n",
    "        receiver_name = order_info[\"receiverName\"]\n",
    "        receiver_mobile = order_info[\"receiverMobile\"]\n",
    "        print(f'create order for  {receiver_name}/{receiver_mobile}\\n')\n",
    "    return \"订单创建成功!!!!!!!!\"\n"
   ],
   "metadata": {
    "collapsed": false,
    "ExecuteTime": {
     "end_time": "2023-07-01T19:34:46.599638Z",
     "start_time": "2023-07-01T19:34:46.598081Z"
    }
   }
  },
  {
   "cell_type": "code",
   "execution_count": 8,
   "metadata": {
    "ExecuteTime": {
     "end_time": "2023-07-01T19:34:46.603309Z",
     "start_time": "2023-07-01T19:34:46.601177Z"
    }
   },
   "outputs": [
    {
     "name": "stdout",
     "output_type": "stream",
     "text": [
      "[{\"receiverName\": \"刘德华\", \"receiverMobile\": \"13400000000\"}, {\"receiverName\": \"张学友\", \"receiverMobile\": \"13500000000\"}]\n",
      "create order for  刘德华/13400000000\n",
      "\n",
      "create order for  张学友/13500000000\n",
      "\n",
      "订单创建成功!!!!!!!!\n"
     ]
    }
   ],
   "source": [
    "function_name = ai_response_message[\"function_call\"][\"name\"]\n",
    "arguments = json.loads(ai_response_message[\"function_call\"][\"arguments\"])\n",
    "\n",
    "# Locate the function and make the call\n",
    "def cal_function(_function_name, _arguments):\n",
    "    the_function = globals().get(_function_name)\n",
    "    parameter_names = get_function_parameter_names(the_function)\n",
    "    parameter_values = []\n",
    "    for parameter_name in parameter_names:\n",
    "      parameter_values.append(_arguments[parameter_name])\n",
    "\n",
    "    return the_function(*parameter_values)\n",
    "\n",
    "returned_value = cal_function(function_name, arguments)\n",
    "print(returned_value)"
   ]
  },
  {
   "cell_type": "code",
   "execution_count": 9,
   "metadata": {
    "ExecuteTime": {
     "end_time": "2023-07-01T19:34:47.518873Z",
     "start_time": "2023-07-01T19:34:46.603616Z"
    }
   },
   "outputs": [
    {
     "name": "stdout",
     "output_type": "stream",
     "text": [
      "请根据给出的信息抽取相应的参数创建订单\n",
      "1. 通过命名实体识别先对输入的信息抽取特定的参数。抽取的数据结构如下：\n",
      "[{\"receiverName\": \"\", \"receiverMobile\": \"\"}]\n",
      "2. 请用命名实体识别抽取的数组参数，不做任何修改使用创建订单接口创建订单\n",
      "\n",
      "输入信息：\n",
      "'''\n",
      "给刘德华（电话13400000000）送一斤吧。还有个叫张学友，电话13500000000也送。好了，下单吧。\n",
      "'''\n",
      "\n",
      "根据给出的信息，创建的订单已经成功创建了。\n"
     ]
    }
   ],
   "source": [
    "second_response = openai.ChatCompletion.create(\n",
    "    model=model,\n",
    "    messages=[\n",
    "        {\"role\": \"user\", \"content\": user_query},\n",
    "        ai_response_message,\n",
    "        {\n",
    "            \"role\": \"function\",\n",
    "            \"name\": \"crete_order\",\n",
    "            \"content\": returned_value\n",
    "        },\n",
    "    ],\n",
    ")\n",
    "print(user_query)\n",
    "print (second_response['choices'][0]['message']['content'])"
   ]
  }
 ],
 "metadata": {
  "kernelspec": {
   "display_name": "Python 3 (ipykernel)",
   "language": "python",
   "name": "python3"
  },
  "language_info": {
   "codemirror_mode": {
    "name": "ipython",
    "version": 3
   },
   "file_extension": ".py",
   "mimetype": "text/x-python",
   "name": "python",
   "nbconvert_exporter": "python",
   "pygments_lexer": "ipython3",
   "version": "3.11.3"
  }
 },
 "nbformat": 4,
 "nbformat_minor": 1
}
