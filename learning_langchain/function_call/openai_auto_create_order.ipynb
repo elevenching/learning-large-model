{
 "cells": [
  {
   "cell_type": "markdown",
   "source": [
    "# 定义函数，OpenAI 会根据问题自动选择合适的函数"
   ],
   "metadata": {
    "collapsed": false
   }
  },
  {
   "cell_type": "code",
   "execution_count": 1,
   "outputs": [],
   "source": [
    "function_descriptions = [\n",
    "    {\n",
    "        \"name\": \"create_order\",\n",
    "        \"description\": \"用给定的参数创建订单\",\n",
    "        \"parameters\": {\n",
    "            \"type\": \"object\",\n",
    "            \"properties\": {\n",
    "                \"orders\": {\n",
    "                    \"type\": \"string\",\n",
    "                    \"description\": \"识别的待创建订单的参数。参数的结构为 [{'receiverName': '', 'receiverMobile': ''}]\",\n",
    "                },\n",
    "            },\n",
    "            \"required\": [\"orders\"],\n",
    "        },\n",
    "    }\n",
    "]"
   ],
   "metadata": {
    "collapsed": false,
    "ExecuteTime": {
     "end_time": "2023-07-03T12:10:02.252Z",
     "start_time": "2023-07-03T12:10:02.247203Z"
    }
   }
  },
  {
   "cell_type": "code",
   "execution_count": 2,
   "outputs": [],
   "source": [
    "user_content = \"给刘德华（电话13400000000）送一斤吧。还有个叫张学友，电话13500000000也送。好了，下单吧。\"\n",
    "user_query = f\"\"\"请根据给出的信息抽取相应的参数创建订单\n",
    "1. 通过命名实体识别先对输入的信息抽取特定的参数。抽取的数据结构如下：\n",
    "[{{\"receiverName\": \"\", \"receiverMobile\": \"\"}}]\n",
    "2. 请用命名实体识别抽取的数组参数，不做任何修改使用创建订单接口创建订单\n",
    "\n",
    "输入信息：\n",
    "'''\n",
    "{user_content}\n",
    "'''\n",
    "\"\"\""
   ],
   "metadata": {
    "collapsed": false,
    "ExecuteTime": {
     "end_time": "2023-07-03T12:10:02.256555Z",
     "start_time": "2023-07-03T12:10:02.254312Z"
    }
   }
  },
  {
   "cell_type": "code",
   "execution_count": 3,
   "outputs": [
    {
     "name": "stdout",
     "output_type": "stream",
     "text": [
      "{'role': 'assistant', 'content': None, 'function_call': {'name': 'create_order', 'arguments': '{\\n  \"orders\": \"[{\\\\\"receiverName\\\\\": \\\\\"刘德华\\\\\", \\\\\"receiverMobile\\\\\": \\\\\"13400000000\\\\\"}, {\\\\\"receiverName\\\\\": \\\\\"张学友\\\\\", \\\\\"receiverMobile\\\\\": \\\\\"13500000000\\\\\"}]\"\\n}'}}\n"
     ]
    }
   ],
   "source": [
    "import openai\n",
    "# 运行此API配置，需要将目录中的.env中api_key替换为自己的\n",
    "from dotenv import load_dotenv, find_dotenv\n",
    "import json\n",
    "import os\n",
    "\n",
    "# read local .env file\n",
    "load_dotenv(find_dotenv())\n",
    "\n",
    "openai.api_key = os.environ['OPENAI_API_KEY']\n",
    "model = 'gpt-3.5-turbo-16k-0613'\n",
    "response = openai.ChatCompletion.create(\n",
    "    model=model,\n",
    "    messages=[{\"role\": \"user\", \"content\": user_query}],\n",
    "    functions=function_descriptions,\n",
    "    function_call=\"auto\"\n",
    ")\n",
    "ai_response_message = response[\"choices\"][0][\"message\"]\n",
    "dumps = json.dumps(ai_response_message, ensure_ascii=False, indent=2)\n",
    "ai_response_message = json.loads(dumps)\n",
    "print(ai_response_message)"
   ],
   "metadata": {
    "collapsed": false,
    "ExecuteTime": {
     "end_time": "2023-07-03T12:10:04.988286Z",
     "start_time": "2023-07-03T12:10:02.259968Z"
    }
   }
  },
  {
   "cell_type": "markdown",
   "source": [
    "# 根据 function call 返回的函数名及参数，调用函数"
   ],
   "metadata": {
    "collapsed": false
   }
  },
  {
   "cell_type": "code",
   "execution_count": 4,
   "metadata": {
    "ExecuteTime": {
     "end_time": "2023-07-03T12:10:04.993814Z",
     "start_time": "2023-07-03T12:10:04.991563Z"
    }
   },
   "outputs": [],
   "source": [
    "import inspect\n",
    "\n",
    "def get_function_parameter_names(function):\n",
    "  if function is not None and inspect.isfunction(function):\n",
    "      parameter_names = inspect.signature(function).parameters.keys()\n",
    "      return list(parameter_names)\n",
    "  else:\n",
    "      return None"
   ]
  },
  {
   "cell_type": "code",
   "execution_count": 5,
   "outputs": [],
   "source": [
    "def create_order(orders):\n",
    "    \"\"\"用给定的参数创建订单 参数为 [{'receiverName': '', 'receiverMobile': ''}]\"\"\"\n",
    "    # orders 为字符串，需要转换为 list 对象\n",
    "    orders = json.loads(orders)\n",
    "    for order_info in orders:\n",
    "        receiver_name = order_info[\"receiverName\"]\n",
    "        receiver_mobile = order_info[\"receiverMobile\"]\n",
    "        print(f'create order for  {receiver_name}/{receiver_mobile}\\n')\n",
    "    return f\"\"\"{orders}\\n订单创建成功!!!!!!!!\"\"\"\n"
   ],
   "metadata": {
    "collapsed": false,
    "ExecuteTime": {
     "end_time": "2023-07-03T12:10:05.056522Z",
     "start_time": "2023-07-03T12:10:05.005332Z"
    }
   }
  },
  {
   "cell_type": "code",
   "execution_count": 6,
   "metadata": {
    "ExecuteTime": {
     "end_time": "2023-07-03T12:10:05.071444Z",
     "start_time": "2023-07-03T12:10:05.020252Z"
    }
   },
   "outputs": [
    {
     "name": "stdout",
     "output_type": "stream",
     "text": [
      "create order for  刘德华/13400000000\n",
      "\n",
      "create order for  张学友/13500000000\n",
      "\n",
      "[{'receiverName': '刘德华', 'receiverMobile': '13400000000'}, {'receiverName': '张学友', 'receiverMobile': '13500000000'}]\n",
      "订单创建成功!!!!!!!!\n"
     ]
    }
   ],
   "source": [
    "function_name = ai_response_message[\"function_call\"][\"name\"]\n",
    "arguments = json.loads(ai_response_message[\"function_call\"][\"arguments\"])\n",
    "\n",
    "# Locate the function and make the call\n",
    "def cal_function(_function_name, _arguments):\n",
    "    the_function = globals().get(_function_name)\n",
    "    parameter_names = get_function_parameter_names(the_function)\n",
    "    parameter_values = []\n",
    "    for parameter_name in parameter_names:\n",
    "      parameter_values.append(_arguments[parameter_name])\n",
    "\n",
    "    return the_function(*parameter_values)\n",
    "\n",
    "returned_value = cal_function(function_name, arguments)\n",
    "print(returned_value)"
   ]
  },
  {
   "cell_type": "markdown",
   "source": [
    "# 根据返回的函数调用结果，让 OpenAI 总结任务结果"
   ],
   "metadata": {
    "collapsed": false
   }
  },
  {
   "cell_type": "code",
   "execution_count": 7,
   "metadata": {
    "ExecuteTime": {
     "end_time": "2023-07-03T12:10:07.753123Z",
     "start_time": "2023-07-03T12:10:05.026410Z"
    }
   },
   "outputs": [
    {
     "name": "stdout",
     "output_type": "stream",
     "text": [
      "任务：\n",
      " 请根据给出的信息抽取相应的参数创建订单\n",
      "1. 通过命名实体识别先对输入的信息抽取特定的参数。抽取的数据结构如下：\n",
      "[{\"receiverName\": \"\", \"receiverMobile\": \"\"}]\n",
      "2. 请用命名实体识别抽取的数组参数，不做任何修改使用创建订单接口创建订单\n",
      "\n",
      "输入信息：\n",
      "'''\n",
      "给刘德华（电话13400000000）送一斤吧。还有个叫张学友，电话13500000000也送。好了，下单吧。\n",
      "'''\n",
      " \n",
      "\n",
      "结果：\n",
      " 根据输入的信息，抽取到的参数为：\n",
      "- 收件人姓名：刘德华\n",
      "- 收件人电话：13400000000\n",
      "- 收件人姓名：张学友\n",
      "- 收件人电话：13500000000\n",
      "\n",
      "使用这些参数创建订单成功。\n"
     ]
    }
   ],
   "source": [
    "second_response = openai.ChatCompletion.create(\n",
    "    model=model,\n",
    "    messages=[\n",
    "        {\"role\": \"user\", \"content\": user_query},\n",
    "        ai_response_message,\n",
    "        {\n",
    "            \"role\": \"function\",\n",
    "            \"name\": \"crete_order\",\n",
    "            \"content\": returned_value\n",
    "        },\n",
    "    ],\n",
    "    temperature=0,\n",
    ")\n",
    "print('任务：\\n', user_query, '\\n')\n",
    "print ('结果：\\n', second_response['choices'][0]['message']['content'])"
   ]
  }
 ],
 "metadata": {
  "kernelspec": {
   "display_name": "Python 3 (ipykernel)",
   "language": "python",
   "name": "python3"
  },
  "language_info": {
   "codemirror_mode": {
    "name": "ipython",
    "version": 3
   },
   "file_extension": ".py",
   "mimetype": "text/x-python",
   "name": "python",
   "nbconvert_exporter": "python",
   "pygments_lexer": "ipython3",
   "version": "3.11.3"
  }
 },
 "nbformat": 4,
 "nbformat_minor": 1
}
