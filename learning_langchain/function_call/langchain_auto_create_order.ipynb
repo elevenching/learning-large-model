{
 "cells": [
  {
   "cell_type": "markdown",
   "metadata": {},
   "source": [
    "# LangChain Agent 使用 function call 用非结构化数据自动创建订单\n",
    "\n",
    "* 先看一下 OpenAI API 的 [function-call-example](./openai_example.ipynb) 示例\n",
    "* 基于 OpenAI API 实现自动创建订单 [openai-auto-create-order](./openai_auto_create_order.ipynb)\n",
    "* 基于 langchain 实现自动创建订单 [langchain-auto-create-order](./langchain_auto_create_order.ipynb)\n",
    "\n",
    "## 背景\n",
    "客户为了快速下单，会把订单信息先录入 Excel 文档，然后通过 Excel 文档导入的方式批量创建订单。\n",
    "但是不同客户可能有自己的订单格式，比如收件人姓名、收件人电话等，这些信息在客户一方的列名、顺序可能不一样。\n",
    "但为了下单，需要把信息转换为我们的订单格式。\n",
    "以前几乎都是通过人工的方式来适配我们的订单格式。\n",
    "\n",
    "## 解决方案\n",
    "这是一个典型的数据转换问题，可以通过命名实体识别（NER）来解决。\n",
    "流程是：\n",
    "1. 通过命名实体识别抽取数据中特定的参数\n",
    "2. 用命名实体识别抽取的参数创建订单\n",
    "\n",
    "在以前，要进行 NER，需要标注数据，然后训练专有模型。\n",
    "\n",
    "现在可以通过 LLM(OpenAI API) 来解决，只需要提供示例与数据，OpenAI API 就可以自动完成 NER。\n",
    "\n",
    "并且，在 2023-06-13 发布的 [gpt-3.5-turbo-16k-0613](https://beta.openai.com/models/gpt3/versions/3.5-turbo-16k-0613) 模型中，OpenAI API 支持 function call，并且能自动提取非结构化数据，然后大模型可以自行分析应该调用哪个 function。\n",
    "\n",
    "这样就能做到载入客户数据（Excel、CSV、JSON、XML、自然语言等），然后通过 function call 自动调用软件已有的功能，完成订单创建。\n",
    "\n",
    "## 进一步思考\n",
    "从现在的测试来看，微调过后的新版本，能自动做 NER 然后自动选择要调用的 function。\n",
    "\n",
    "这里核心解决了两个问题：\n",
    "1. 信息识别与转换\n",
    "2. 信息链接\n",
    "\n",
    "这里有很大的想象空间"
   ]
  },
  {
   "cell_type": "code",
   "execution_count": 1,
   "outputs": [],
   "source": [
    "# 所有缺少的包都可以通过 !pip -q install xxx 安装。-q 可以减少日志输出\n",
    "# !pip -q install openai --upgrade\n",
    "# !pip -q install langchain --upgrade"
   ],
   "metadata": {
    "collapsed": false,
    "ExecuteTime": {
     "end_time": "2023-07-14T06:42:18.800197Z",
     "start_time": "2023-07-14T06:42:18.795434Z"
    }
   }
  },
  {
   "cell_type": "markdown",
   "source": [
    "在 .env 中配置相应参数"
   ],
   "metadata": {
    "collapsed": false
   }
  },
  {
   "cell_type": "markdown",
   "source": [
    "# 使用 agent\n",
    "\n",
    "### 准备非结构化数据"
   ],
   "metadata": {
    "collapsed": false
   }
  },
  {
   "cell_type": "code",
   "execution_count": 2,
   "metadata": {
    "ExecuteTime": {
     "end_time": "2023-07-14T06:42:20.095576Z",
     "start_time": "2023-07-14T06:42:18.803927Z"
    }
   },
   "outputs": [
    {
     "name": "stdout",
     "output_type": "stream",
     "text": [
      "[Document(page_content='客户订单号: GO202001013\\n线路标识: \\n收货地址: 火炬动力港\\n收件人姓名: 运荔枝\\n收件人电话号码: 12345678900\\n货品: 肉制品\\n数量（件数）: 1\\n总重量（KG): \\n总体积（m³）: \\n总货值（元）: \\n温层: 冷藏\\n车型: \\n取货地址: \\n取货人姓名: \\n取货人电话号码: \\n提货时间: 2023/5/6 16:00\\n送货时间: 2023/5/6 23:00\\n备注: ', metadata={'source': './test-order.csv', 'row': 0}), Document(page_content='客户订单号: GO202001014\\n线路标识: \\n收货地址: 火炬动力港\\n收件人姓名: 鲜生活\\n收件人电话号码: 13409871234\\n货品: 肉制品\\n数量（件数）: 1\\n总重量（KG): \\n总体积（m³）: \\n总货值（元）: \\n温层: 冷藏\\n车型: \\n取货地址: \\n取货人姓名: \\n取货人电话号码: \\n提货时间: 2023/5/6 16:00\\n送货时间: 2023/5/6 23:00\\n备注: ', metadata={'source': './test-order.csv', 'row': 1})]\n"
     ]
    }
   ],
   "source": [
    "from langchain.document_loaders.csv_loader import CSVLoader\n",
    "import langchain\n",
    "\n",
    "langchain.debug=True\n",
    "\n",
    "file_path = \"./test-order.csv\"\n",
    "loader = CSVLoader(file_path)\n",
    "data = loader.load()\n",
    "print(data)\n",
    "# 每一个 page_content 就是一个字符串\n",
    "texts = [doc.page_content for doc in data]"
   ]
  },
  {
   "cell_type": "code",
   "execution_count": 3,
   "metadata": {
    "ExecuteTime": {
     "end_time": "2023-07-14T06:42:20.096713Z",
     "start_time": "2023-07-14T06:42:20.082664Z"
    }
   },
   "outputs": [
    {
     "name": "stdout",
     "output_type": "stream",
     "text": [
      "客户订单号: GO202001013\n",
      "线路标识: \n",
      "收货地址: 火炬动力港\n",
      "收件人姓名: 运荔枝\n",
      "收件人电话号码: 12345678900\n",
      "货品: 肉制品\n",
      "数量（件数）: 1\n",
      "总重量（KG): \n",
      "总体积（m³）: \n",
      "总货值（元）: \n",
      "温层: 冷藏\n",
      "车型: \n",
      "取货地址: \n",
      "取货人姓名: \n",
      "取货人电话号码: \n",
      "提货时间: 2023/5/6 16:00\n",
      "送货时间: 2023/5/6 23:00\n",
      "备注: 。\n",
      "客户订单号: GO202001014\n",
      "线路标识: \n",
      "收货地址: 火炬动力港\n",
      "收件人姓名: 鲜生活\n",
      "收件人电话号码: 13409871234\n",
      "货品: 肉制品\n",
      "数量（件数）: 1\n",
      "总重量（KG): \n",
      "总体积（m³）: \n",
      "总货值（元）: \n",
      "温层: 冷藏\n",
      "车型: \n",
      "取货地址: \n",
      "取货人姓名: \n",
      "取货人电话号码: \n",
      "提货时间: 2023/5/6 16:00\n",
      "送货时间: 2023/5/6 23:00\n",
      "备注: 。给刘德华（电话13400000000）送一斤吧。还有个叫张学友，电话13500000000也送。货多，不怕。哎，有个黎明，手机13600000000的是不是也应该送一斤啊？两斤吧。最后，住在灯球下的郭富城也送一单，电话是13700000000。好了，下单吧。\n"
     ]
    }
   ],
   "source": [
    "# 额外增加一些非结构化数据\n",
    "texts = '。\\n'.join(texts) + '。给刘德华（电话13400000000）送一斤吧。还有个叫张学友，电话13500000000也送。货多，不怕。哎，有个黎明，手机13600000000的是不是也应该送一斤啊？两斤吧。最后，住在灯球下的郭富城也送一单，电话是13700000000。好了，下单吧。'\n",
    "print(texts)"
   ]
  },
  {
   "cell_type": "markdown",
   "source": [
    "### 准备 agent 需要的 tool"
   ],
   "metadata": {
    "collapsed": false
   }
  },
  {
   "cell_type": "code",
   "execution_count": 4,
   "metadata": {
    "ExecuteTime": {
     "end_time": "2023-07-14T06:42:20.122366Z",
     "start_time": "2023-07-14T06:42:20.098341Z"
    }
   },
   "outputs": [
    {
     "name": "stdout",
     "output_type": "stream",
     "text": [
      "{'title': 'create_orderSchemaSchema', 'type': 'object', 'properties': {'orders': {'title': 'Orders'}}, 'required': ['orders']}\n"
     ]
    }
   ],
   "source": [
    "from langchain import PromptTemplate\n",
    "from langchain.tools import tool\n",
    "\n",
    "# 在 function description 中描述参数结构，LLM 可能会自动识别，但最好还是配置 args_schema\n",
    "@tool(\"create_order\")\n",
    "def create_order(orders):\n",
    "    \"\"\"用给定的参数创建订单 参数为 [{'receiverName': '', 'receiverMobile': ''}]\"\"\"\n",
    "    for order_info in orders:\n",
    "        receiver_name = order_info[\"receiverName\"]\n",
    "        receiver_mobile = order_info[\"receiverMobile\"]\n",
    "        print(f'create order for  {receiver_name}/{receiver_mobile}\\n')\n",
    "    return f\"{orders}\\n订单创建成功!\"\n",
    "\n",
    "print(create_order.args_schema.schema())\n",
    "\n",
    "# 工具是给 agent 自动分析使用\n",
    "tools = [create_order]"
   ]
  },
  {
   "cell_type": "markdown",
   "source": [
    "如果给两个 tool，agent 衔接还有些问题。\n",
    "```\n",
    "先做数据抽取 do_ner 返回的数据非常标准。\n",
    "[{'receiverName': '运荔枝', 'receiverMobile': '12345678900'}, {'receiverName': '鲜生活', 'receiverMobile': '13409871234'}, {'receiverName': '刘德华', 'receiverMobile': '13400000000'}, {'receiverName': '张学友', 'receiverMobile': '13500000000'}, {'receiverName': '黎明', 'receiverMobile': '13600000000'}, {'receiverName': '郭富城', 'receiverMobile': '13700000000'}]\n",
    "\n",
    "但是 agent 在调用 create_order 时并没有把第一个函数的结果给第二个函数。这个还需要测试。\n",
    "Invoking: `create_order` with `{'orders': [{'receiverName': '', 'receiverMobile': ''}]}`\n",
    "```"
   ],
   "metadata": {
    "collapsed": false
   }
  },
  {
   "cell_type": "markdown",
   "source": [
    "### 准备 问题 与 agent，执行任务"
   ],
   "metadata": {
    "collapsed": false
   }
  },
  {
   "cell_type": "code",
   "execution_count": 5,
   "metadata": {
    "ExecuteTime": {
     "end_time": "2023-07-14T06:42:20.122632Z",
     "start_time": "2023-07-14T06:42:20.109256Z"
    }
   },
   "outputs": [
    {
     "name": "stdout",
     "output_type": "stream",
     "text": [
      "\n",
      "请根据给出的信息抽取相应的参数创建订单\n",
      "1. 通过命名实体识别先对输入的信息抽取特定的参数。抽取的数据结构如下：\n",
      "[{\"receiverName\": \"\", \"receiverMobile\": \"\"}]\n",
      "2. 请用命名实体识别抽取的数组参数，不做任何修改使用创建订单接口创建订单\n",
      "\n",
      "输入信息：\n",
      "'''\n",
      "客户订单号: GO202001013\n",
      "线路标识: \n",
      "收货地址: 火炬动力港\n",
      "收件人姓名: 运荔枝\n",
      "收件人电话号码: 12345678900\n",
      "货品: 肉制品\n",
      "数量（件数）: 1\n",
      "总重量（KG): \n",
      "总体积（m³）: \n",
      "总货值（元）: \n",
      "温层: 冷藏\n",
      "车型: \n",
      "取货地址: \n",
      "取货人姓名: \n",
      "取货人电话号码: \n",
      "提货时间: 2023/5/6 16:00\n",
      "送货时间: 2023/5/6 23:00\n",
      "备注: 。\n",
      "客户订单号: GO202001014\n",
      "线路标识: \n",
      "收货地址: 火炬动力港\n",
      "收件人姓名: 鲜生活\n",
      "收件人电话号码: 13409871234\n",
      "货品: 肉制品\n",
      "数量（件数）: 1\n",
      "总重量（KG): \n",
      "总体积（m³）: \n",
      "总货值（元）: \n",
      "温层: 冷藏\n",
      "车型: \n",
      "取货地址: \n",
      "取货人姓名: \n",
      "取货人电话号码: \n",
      "提货时间: 2023/5/6 16:00\n",
      "送货时间: 2023/5/6 23:00\n",
      "备注: 。给刘德华（电话13400000000）送一斤吧。还有个叫张学友，电话13500000000也送。货多，不怕。哎，有个黎明，手机13600000000的是不是也应该送一斤啊？两斤吧。最后，住在灯球下的郭富城也送一单，电话是13700000000。好了，下单吧。\n",
      "'''\n",
      "\n"
     ]
    }
   ],
   "source": [
    "question = \"\"\"\n",
    "请根据给出的信息抽取相应的参数创建订单\n",
    "1. 通过命名实体识别先对输入的信息抽取特定的参数。抽取的数据结构如下：\n",
    "[{{\"receiverName\": \"\", \"receiverMobile\": \"\"}}]\n",
    "2. 请用命名实体识别抽取的数组参数，不做任何修改使用创建订单接口创建订单\n",
    "\n",
    "输入信息：\n",
    "'''\n",
    "{texts}\n",
    "'''\n",
    "\"\"\"\n",
    "question_prompt = PromptTemplate.from_template(question)\n",
    "question_format_str = question_prompt.format(texts=texts)\n",
    "print(question_format_str)"
   ]
  },
  {
   "cell_type": "code",
   "execution_count": 6,
   "metadata": {
    "ExecuteTime": {
     "end_time": "2023-07-14T06:42:39.303362Z",
     "start_time": "2023-07-14T06:42:20.118050Z"
    }
   },
   "outputs": [
    {
     "name": "stdout",
     "output_type": "stream",
     "text": [
      "\u001B[32;1m\u001B[1;3m[chain/start]\u001B[0m \u001B[1m[1:RunTypeEnum.chain:AgentExecutor] Entering Chain run with input:\n",
      "\u001B[0m{\n",
      "  \"input\": \"\\n请根据给出的信息抽取相应的参数创建订单\\n1. 通过命名实体识别先对输入的信息抽取特定的参数。抽取的数据结构如下：\\n[{\\\"receiverName\\\": \\\"\\\", \\\"receiverMobile\\\": \\\"\\\"}]\\n2. 请用命名实体识别抽取的数组参数，不做任何修改使用创建订单接口创建订单\\n\\n输入信息：\\n'''\\n客户订单号: GO202001013\\n线路标识: \\n收货地址: 火炬动力港\\n收件人姓名: 运荔枝\\n收件人电话号码: 12345678900\\n货品: 肉制品\\n数量（件数）: 1\\n总重量（KG): \\n总体积（m³）: \\n总货值（元）: \\n温层: 冷藏\\n车型: \\n取货地址: \\n取货人姓名: \\n取货人电话号码: \\n提货时间: 2023/5/6 16:00\\n送货时间: 2023/5/6 23:00\\n备注: 。\\n客户订单号: GO202001014\\n线路标识: \\n收货地址: 火炬动力港\\n收件人姓名: 鲜生活\\n收件人电话号码: 13409871234\\n货品: 肉制品\\n数量（件数）: 1\\n总重量（KG): \\n总体积（m³）: \\n总货值（元）: \\n温层: 冷藏\\n车型: \\n取货地址: \\n取货人姓名: \\n取货人电话号码: \\n提货时间: 2023/5/6 16:00\\n送货时间: 2023/5/6 23:00\\n备注: 。给刘德华（电话13400000000）送一斤吧。还有个叫张学友，电话13500000000也送。货多，不怕。哎，有个黎明，手机13600000000的是不是也应该送一斤啊？两斤吧。最后，住在灯球下的郭富城也送一单，电话是13700000000。好了，下单吧。\\n'''\\n\"\n",
      "}\n",
      "\u001B[32;1m\u001B[1;3m[llm/start]\u001B[0m \u001B[1m[1:RunTypeEnum.chain:AgentExecutor > 2:RunTypeEnum.llm:MultiKeyChatOpenAI] Entering LLM run with input:\n",
      "\u001B[0m{\n",
      "  \"prompts\": [\n",
      "    \"System: You are a helpful AI assistant.\\nHuman: \\n请根据给出的信息抽取相应的参数创建订单\\n1. 通过命名实体识别先对输入的信息抽取特定的参数。抽取的数据结构如下：\\n[{\\\"receiverName\\\": \\\"\\\", \\\"receiverMobile\\\": \\\"\\\"}]\\n2. 请用命名实体识别抽取的数组参数，不做任何修改使用创建订单接口创建订单\\n\\n输入信息：\\n'''\\n客户订单号: GO202001013\\n线路标识: \\n收货地址: 火炬动力港\\n收件人姓名: 运荔枝\\n收件人电话号码: 12345678900\\n货品: 肉制品\\n数量（件数）: 1\\n总重量（KG): \\n总体积（m³）: \\n总货值（元）: \\n温层: 冷藏\\n车型: \\n取货地址: \\n取货人姓名: \\n取货人电话号码: \\n提货时间: 2023/5/6 16:00\\n送货时间: 2023/5/6 23:00\\n备注: 。\\n客户订单号: GO202001014\\n线路标识: \\n收货地址: 火炬动力港\\n收件人姓名: 鲜生活\\n收件人电话号码: 13409871234\\n货品: 肉制品\\n数量（件数）: 1\\n总重量（KG): \\n总体积（m³）: \\n总货值（元）: \\n温层: 冷藏\\n车型: \\n取货地址: \\n取货人姓名: \\n取货人电话号码: \\n提货时间: 2023/5/6 16:00\\n送货时间: 2023/5/6 23:00\\n备注: 。给刘德华（电话13400000000）送一斤吧。还有个叫张学友，电话13500000000也送。货多，不怕。哎，有个黎明，手机13600000000的是不是也应该送一斤啊？两斤吧。最后，住在灯球下的郭富城也送一单，电话是13700000000。好了，下单吧。\\n'''\"\n",
      "  ]\n",
      "}\n",
      "\u001B[36;1m\u001B[1;3m[llm/end]\u001B[0m \u001B[1m[1:RunTypeEnum.chain:AgentExecutor > 2:RunTypeEnum.llm:MultiKeyChatOpenAI] [9.73s] Exiting LLM run with output:\n",
      "\u001B[0m{\n",
      "  \"generations\": [\n",
      "    [\n",
      "      {\n",
      "        \"text\": \"\",\n",
      "        \"generation_info\": {\n",
      "          \"finish_reason\": \"function_call\"\n",
      "        },\n",
      "        \"message\": {\n",
      "          \"lc\": 1,\n",
      "          \"type\": \"constructor\",\n",
      "          \"id\": [\n",
      "            \"langchain\",\n",
      "            \"schema\",\n",
      "            \"messages\",\n",
      "            \"AIMessage\"\n",
      "          ],\n",
      "          \"kwargs\": {\n",
      "            \"content\": \"\",\n",
      "            \"additional_kwargs\": {\n",
      "              \"function_call\": {\n",
      "                \"name\": \"tool_selection\",\n",
      "                \"arguments\": \"{\\n  \\\"actions\\\": [\\n    {\\n      \\\"action_name\\\": \\\"create_order\\\",\\n      \\\"action\\\": {\\n        \\\"orders\\\": [\\n          {\\n            \\\"receiverName\\\": \\\"运荔枝\\\",\\n            \\\"receiverMobile\\\": \\\"12345678900\\\"\\n          },\\n          {\\n            \\\"receiverName\\\": \\\"鲜生活\\\",\\n            \\\"receiverMobile\\\": \\\"13409871234\\\"\\n          },\\n          {\\n            \\\"receiverName\\\": \\\"刘德华\\\",\\n            \\\"receiverMobile\\\": \\\"13400000000\\\"\\n          },\\n          {\\n            \\\"receiverName\\\": \\\"张学友\\\",\\n            \\\"receiverMobile\\\": \\\"13500000000\\\"\\n          },\\n          {\\n            \\\"receiverName\\\": \\\"黎明\\\",\\n            \\\"receiverMobile\\\": \\\"13600000000\\\"\\n          },\\n          {\\n            \\\"receiverName\\\": \\\"郭富城\\\",\\n            \\\"receiverMobile\\\": \\\"13700000000\\\"\\n          }\\n        ]\\n      }\\n    }\\n  ]\\n}\"\n",
      "              }\n",
      "            }\n",
      "          }\n",
      "        }\n",
      "      }\n",
      "    ]\n",
      "  ],\n",
      "  \"llm_output\": {\n",
      "    \"token_usage\": {\n",
      "      \"prompt_tokens\": 621,\n",
      "      \"completion_tokens\": 200,\n",
      "      \"total_tokens\": 821\n",
      "    },\n",
      "    \"model_name\": \"gpt-3.5-turbo-16k-0613\"\n",
      "  },\n",
      "  \"run\": null\n",
      "}\n",
      "\u001B[32;1m\u001B[1;3m[tool/start]\u001B[0m \u001B[1m[1:RunTypeEnum.chain:AgentExecutor > 3:RunTypeEnum.tool:create_order] Entering Tool run with input:\n",
      "\u001B[0m\"{'orders': [{'receiverName': '运荔枝', 'receiverMobile': '12345678900'}, {'receiverName': '鲜生活', 'receiverMobile': '13409871234'}, {'receiverName': '刘德华', 'receiverMobile': '13400000000'}, {'receiverName': '张学友', 'receiverMobile': '13500000000'}, {'receiverName': '黎明', 'receiverMobile': '13600000000'}, {'receiverName': '郭富城', 'receiverMobile': '13700000000'}]}\"\n",
      "create order for  运荔枝/12345678900\n",
      "\n",
      "create order for  鲜生活/13409871234\n",
      "\n",
      "create order for  刘德华/13400000000\n",
      "\n",
      "create order for  张学友/13500000000\n",
      "\n",
      "create order for  黎明/13600000000\n",
      "\n",
      "create order for  郭富城/13700000000\n",
      "\n",
      "\u001B[36;1m\u001B[1;3m[tool/end]\u001B[0m \u001B[1m[1:RunTypeEnum.chain:AgentExecutor > 3:RunTypeEnum.tool:create_order] [0.184ms] Exiting Tool run with output:\n",
      "\u001B[0m\"[{'receiverName': '运荔枝', 'receiverMobile': '12345678900'}, {'receiverName': '鲜生活', 'receiverMobile': '13409871234'}, {'receiverName': '刘德华', 'receiverMobile': '13400000000'}, {'receiverName': '张学友', 'receiverMobile': '13500000000'}, {'receiverName': '黎明', 'receiverMobile': '13600000000'}, {'receiverName': '郭富城', 'receiverMobile': '13700000000'}]\n",
      "订单创建成功!\"\n",
      "\u001B[32;1m\u001B[1;3m[llm/start]\u001B[0m \u001B[1m[1:RunTypeEnum.chain:AgentExecutor > 4:RunTypeEnum.llm:MultiKeyChatOpenAI] Entering LLM run with input:\n",
      "\u001B[0m{\n",
      "  \"prompts\": [\n",
      "    \"System: You are a helpful AI assistant.\\nHuman: \\n请根据给出的信息抽取相应的参数创建订单\\n1. 通过命名实体识别先对输入的信息抽取特定的参数。抽取的数据结构如下：\\n[{\\\"receiverName\\\": \\\"\\\", \\\"receiverMobile\\\": \\\"\\\"}]\\n2. 请用命名实体识别抽取的数组参数，不做任何修改使用创建订单接口创建订单\\n\\n输入信息：\\n'''\\n客户订单号: GO202001013\\n线路标识: \\n收货地址: 火炬动力港\\n收件人姓名: 运荔枝\\n收件人电话号码: 12345678900\\n货品: 肉制品\\n数量（件数）: 1\\n总重量（KG): \\n总体积（m³）: \\n总货值（元）: \\n温层: 冷藏\\n车型: \\n取货地址: \\n取货人姓名: \\n取货人电话号码: \\n提货时间: 2023/5/6 16:00\\n送货时间: 2023/5/6 23:00\\n备注: 。\\n客户订单号: GO202001014\\n线路标识: \\n收货地址: 火炬动力港\\n收件人姓名: 鲜生活\\n收件人电话号码: 13409871234\\n货品: 肉制品\\n数量（件数）: 1\\n总重量（KG): \\n总体积（m³）: \\n总货值（元）: \\n温层: 冷藏\\n车型: \\n取货地址: \\n取货人姓名: \\n取货人电话号码: \\n提货时间: 2023/5/6 16:00\\n送货时间: 2023/5/6 23:00\\n备注: 。给刘德华（电话13400000000）送一斤吧。还有个叫张学友，电话13500000000也送。货多，不怕。哎，有个黎明，手机13600000000的是不是也应该送一斤啊？两斤吧。最后，住在灯球下的郭富城也送一单，电话是13700000000。好了，下单吧。\\n'''\\n\\nAI: {'name': 'tool_selection', 'arguments': '{\\\\n  \\\"actions\\\": [\\\\n    {\\\\n      \\\"action_name\\\": \\\"create_order\\\",\\\\n      \\\"action\\\": {\\\\n        \\\"orders\\\": [\\\\n          {\\\\n            \\\"receiverName\\\": \\\"运荔枝\\\",\\\\n            \\\"receiverMobile\\\": \\\"12345678900\\\"\\\\n          },\\\\n          {\\\\n            \\\"receiverName\\\": \\\"鲜生活\\\",\\\\n            \\\"receiverMobile\\\": \\\"13409871234\\\"\\\\n          },\\\\n          {\\\\n            \\\"receiverName\\\": \\\"刘德华\\\",\\\\n            \\\"receiverMobile\\\": \\\"13400000000\\\"\\\\n          },\\\\n          {\\\\n            \\\"receiverName\\\": \\\"张学友\\\",\\\\n            \\\"receiverMobile\\\": \\\"13500000000\\\"\\\\n          },\\\\n          {\\\\n            \\\"receiverName\\\": \\\"黎明\\\",\\\\n            \\\"receiverMobile\\\": \\\"13600000000\\\"\\\\n          },\\\\n          {\\\\n            \\\"receiverName\\\": \\\"郭富城\\\",\\\\n            \\\"receiverMobile\\\": \\\"13700000000\\\"\\\\n          }\\\\n        ]\\\\n      }\\\\n    }\\\\n  ]\\\\n}'}\\nFunction: [{'receiverName': '运荔枝', 'receiverMobile': '12345678900'}, {'receiverName': '鲜生活', 'receiverMobile': '13409871234'}, {'receiverName': '刘德华', 'receiverMobile': '13400000000'}, {'receiverName': '张学友', 'receiverMobile': '13500000000'}, {'receiverName': '黎明', 'receiverMobile': '13600000000'}, {'receiverName': '郭富城', 'receiverMobile': '13700000000'}]\\n订单创建成功!\"\n",
      "  ]\n",
      "}\n",
      "\u001B[36;1m\u001B[1;3m[llm/end]\u001B[0m \u001B[1m[1:RunTypeEnum.chain:AgentExecutor > 4:RunTypeEnum.llm:MultiKeyChatOpenAI] [9.36s] Exiting LLM run with output:\n",
      "\u001B[0m{\n",
      "  \"generations\": [\n",
      "    [\n",
      "      {\n",
      "        \"text\": \"订单已成功创建！以下是订单的收件人信息：\\n\\n订单1：\\n- 收件人姓名：运荔枝\\n- 收件人电话号码：12345678900\\n\\n订单2：\\n- 收件人姓名：鲜生活\\n- 收件人电话号码：13409871234\\n\\n订单3：\\n- 收件人姓名：刘德华\\n- 收件人电话号码：13400000000\\n\\n订单4：\\n- 收件人姓名：张学友\\n- 收件人电话号码：13500000000\\n\\n订单5：\\n- 收件人姓名：黎明\\n- 收件人电话号码：13600000000\\n\\n订单6：\\n- 收件人姓名：郭富城\\n- 收件人电话号码：13700000000\\n\\n如果还有其他问题，请随时告诉我。\",\n",
      "        \"generation_info\": {\n",
      "          \"finish_reason\": \"stop\"\n",
      "        },\n",
      "        \"message\": {\n",
      "          \"lc\": 1,\n",
      "          \"type\": \"constructor\",\n",
      "          \"id\": [\n",
      "            \"langchain\",\n",
      "            \"schema\",\n",
      "            \"messages\",\n",
      "            \"AIMessage\"\n",
      "          ],\n",
      "          \"kwargs\": {\n",
      "            \"content\": \"订单已成功创建！以下是订单的收件人信息：\\n\\n订单1：\\n- 收件人姓名：运荔枝\\n- 收件人电话号码：12345678900\\n\\n订单2：\\n- 收件人姓名：鲜生活\\n- 收件人电话号码：13409871234\\n\\n订单3：\\n- 收件人姓名：刘德华\\n- 收件人电话号码：13400000000\\n\\n订单4：\\n- 收件人姓名：张学友\\n- 收件人电话号码：13500000000\\n\\n订单5：\\n- 收件人姓名：黎明\\n- 收件人电话号码：13600000000\\n\\n订单6：\\n- 收件人姓名：郭富城\\n- 收件人电话号码：13700000000\\n\\n如果还有其他问题，请随时告诉我。\",\n",
      "            \"additional_kwargs\": {}\n",
      "          }\n",
      "        }\n",
      "      }\n",
      "    ]\n",
      "  ],\n",
      "  \"llm_output\": {\n",
      "    \"token_usage\": {\n",
      "      \"prompt_tokens\": 957,\n",
      "      \"completion_tokens\": 205,\n",
      "      \"total_tokens\": 1162\n",
      "    },\n",
      "    \"model_name\": \"gpt-3.5-turbo-16k-0613\"\n",
      "  },\n",
      "  \"run\": null\n",
      "}\n",
      "\u001B[36;1m\u001B[1;3m[chain/end]\u001B[0m \u001B[1m[1:RunTypeEnum.chain:AgentExecutor] [19.10s] Exiting Chain run with output:\n",
      "\u001B[0m{\n",
      "  \"output\": \"订单已成功创建！以下是订单的收件人信息：\\n\\n订单1：\\n- 收件人姓名：运荔枝\\n- 收件人电话号码：12345678900\\n\\n订单2：\\n- 收件人姓名：鲜生活\\n- 收件人电话号码：13409871234\\n\\n订单3：\\n- 收件人姓名：刘德华\\n- 收件人电话号码：13400000000\\n\\n订单4：\\n- 收件人姓名：张学友\\n- 收件人电话号码：13500000000\\n\\n订单5：\\n- 收件人姓名：黎明\\n- 收件人电话号码：13600000000\\n\\n订单6：\\n- 收件人姓名：郭富城\\n- 收件人电话号码：13700000000\\n\\n如果还有其他问题，请随时告诉我。\"\n",
      "}\n",
      "订单已成功创建！以下是订单的收件人信息：\n",
      "\n",
      "订单1：\n",
      "- 收件人姓名：运荔枝\n",
      "- 收件人电话号码：12345678900\n",
      "\n",
      "订单2：\n",
      "- 收件人姓名：鲜生活\n",
      "- 收件人电话号码：13409871234\n",
      "\n",
      "订单3：\n",
      "- 收件人姓名：刘德华\n",
      "- 收件人电话号码：13400000000\n",
      "\n",
      "订单4：\n",
      "- 收件人姓名：张学友\n",
      "- 收件人电话号码：13500000000\n",
      "\n",
      "订单5：\n",
      "- 收件人姓名：黎明\n",
      "- 收件人电话号码：13600000000\n",
      "\n",
      "订单6：\n",
      "- 收件人姓名：郭富城\n",
      "- 收件人电话号码：13700000000\n",
      "\n",
      "如果还有其他问题，请随时告诉我。\n"
     ]
    }
   ],
   "source": [
    "from langchain.agents import initialize_agent\n",
    "from langchain.agents import AgentType\n",
    "from learning_langchain.multi_key_chat_open_ai import MultiKeyChatOpenAI\n",
    "\n",
    "llm = MultiKeyChatOpenAI(temperature=0, verbose=True)\n",
    "\n",
    "agent = initialize_agent(tools, llm, agent=AgentType.OPENAI_MULTI_FUNCTIONS, verbose=True)\n",
    "agent_response = agent.run(question_format_str)\n",
    "print(agent_response)"
   ]
  },
  {
   "cell_type": "markdown",
   "source": [
    "# 不使用 agent\n",
    "\n",
    "langchain 是通过 tool 来包装 function calling 的\n",
    "\n",
    "### 定义函数，准备 tool"
   ],
   "metadata": {
    "collapsed": false
   }
  },
  {
   "cell_type": "code",
   "execution_count": 7,
   "outputs": [
    {
     "name": "stdout",
     "output_type": "stream",
     "text": [
      "[{'name': 'do_ner', 'description': '通过命名实体识别抽取数据中特定格式实体信息', 'parameters': {'title': 'DoNerInput', 'type': 'object', 'properties': {'ner_input': {'title': 'Ner Input', 'type': 'string'}}, 'required': ['ner_input']}}, {'name': 'create_order', 'description': \"用给定的参数创建订单 参数为 orders: [{'receiverName': '', 'receiverMobile': ''}]\", 'parameters': {'title': 'CreateOrderInput', 'type': 'object', 'properties': {'orders': {'title': 'Orders', 'type': 'array', 'items': {'$ref': '#/definitions/Order'}}}, 'required': ['orders'], 'definitions': {'Order': {'title': 'Order', 'type': 'object', 'properties': {'receiverName': {'title': 'Receivername', 'type': 'string'}, 'receiverMobile': {'title': 'Receivermobile', 'type': 'string'}}, 'required': ['receiverName', 'receiverMobile']}}}}]\n"
     ]
    }
   ],
   "source": [
    "from pydantic import BaseModel\n",
    "from langchain.tools import Tool, format_tool_to_openai_function\n",
    "from langchain.schema import SystemMessage, HumanMessage\n",
    "\n",
    "def do_ner(ner_input: str):\n",
    "    \"\"\"通过命名实体识别抽取数据中特定格式实体信息\"\"\"\n",
    "    ner_output_template = \"\"\" [\n",
    "        {\n",
    "            \"receiverName\": \"张三\",\n",
    "            \"receiverMobile\": \"13800000000\"\n",
    "        },\n",
    "        {\n",
    "            \"receiverName\": \"李四\",\n",
    "            \"receiverMobile\": \"13800000001\"\n",
    "        }\n",
    "     ]\"\"\"\n",
    "\n",
    "    template = \"\"\"\n",
    "    请严格按照抽取格式返回数据，不得抽取多的实体信息，如果指定的实体信息缺失，可以设置空值。\n",
    "    抽取格式：\n",
    "    {ner_template}\n",
    "    数据：\n",
    "    {texts}\n",
    "    \"\"\"\n",
    "\n",
    "    prompt = PromptTemplate.from_template(template)\n",
    "    format_str = prompt.format(ner_template=ner_output_template, texts=ner_input)\n",
    "\n",
    "    messages = [\n",
    "        SystemMessage(\n",
    "            content=\"你是一个命名实体识别模型。我会给你抽取格式与数据，请根据示例格式抽取数据中的信息返回。\"\n",
    "        ),\n",
    "        HumanMessage(\n",
    "            content=format_str\n",
    "        ),\n",
    "    ]\n",
    "    results = llm.predict_messages(messages)\n",
    "    content = results.content\n",
    "    return content\n",
    "\n",
    "def create_order(orders):\n",
    "    \"\"\"用给定的参数创建订单 参数为 [{'receiverName': '', 'receiverMobile': ''}]\"\"\"\n",
    "    for order_info in orders:\n",
    "        receiver_name = order_info[\"receiverName\"]\n",
    "        receiver_mobile = order_info[\"receiverMobile\"]\n",
    "        print(f'create order for  {receiver_name}/{receiver_mobile}\\n')\n",
    "    return f\"{orders}\\n订单创建成功!\"\n",
    "\n",
    "class DoNerInput(BaseModel):\n",
    "    ner_input: str\n",
    "\n",
    "class Order(BaseModel):\n",
    "    receiverName: str\n",
    "    receiverMobile: str\n",
    "\n",
    "class CreateOrderInput(BaseModel):\n",
    "    orders: list[Order]\n",
    "\n",
    "# 测试时发现，在 description 描述参数结构，一定程度可以让 OpenAI 识别参数结构，但不稳定，因此最好是在 args_schema 中定义参数结构。\n",
    "new_tools = [\n",
    "    Tool.from_function(\n",
    "        name='do_ner',\n",
    "        description='通过命名实体识别抽取数据中特定格式实体信息',\n",
    "        func=do_ner,\n",
    "        args_schema=DoNerInput\n",
    "    ),\n",
    "    Tool.from_function(\n",
    "        name='create_order',\n",
    "        description=\"用给定的参数创建订单 参数为 orders: [{'receiverName': '', 'receiverMobile': ''}]\",\n",
    "        func=create_order,\n",
    "        args_schema=CreateOrderInput\n",
    "    ),\n",
    "]\n",
    "\n",
    "\n",
    "functions = [format_tool_to_openai_function(t) for t in new_tools]\n",
    "print(functions)"
   ],
   "metadata": {
    "collapsed": false,
    "ExecuteTime": {
     "end_time": "2023-07-14T06:42:39.321417Z",
     "start_time": "2023-07-14T06:42:39.317580Z"
    }
   }
  },
  {
   "cell_type": "markdown",
   "source": [
    "### 定义执行本地函数的函数"
   ],
   "metadata": {
    "collapsed": false
   }
  },
  {
   "cell_type": "code",
   "execution_count": 8,
   "outputs": [],
   "source": [
    "# 获取本地函数的参数，执行本地函数\n",
    "import inspect\n",
    "import json\n",
    "\n",
    "def get_function_parameter_names(function):\n",
    "  isfunction = inspect.isfunction(function)\n",
    "  if function is not None and isfunction:\n",
    "      parameter_names = inspect.signature(function).parameters.keys()\n",
    "      return list(parameter_names)\n",
    "  else:\n",
    "      return None\n",
    "\n",
    "# Locate the function and make the call\n",
    "def cal_function(_function_name, _arguments):\n",
    "    the_function = globals().get(_function_name)\n",
    "    parameter_names = get_function_parameter_names(the_function)\n",
    "    parameter_values = []\n",
    "    for parameter_name in parameter_names:\n",
    "      parameter_values.append(_arguments[parameter_name])\n",
    "    return the_function(*parameter_values)"
   ],
   "metadata": {
    "collapsed": false,
    "ExecuteTime": {
     "end_time": "2023-07-14T06:42:39.321800Z",
     "start_time": "2023-07-14T06:42:39.318166Z"
    }
   }
  },
  {
   "cell_type": "markdown",
   "source": [
    "### 执行 function calling，并根据 LLM function calling 的返回值，调用本地函数"
   ],
   "metadata": {
    "collapsed": false
   }
  },
  {
   "cell_type": "code",
   "execution_count": 9,
   "outputs": [
    {
     "name": "stdout",
     "output_type": "stream",
     "text": [
      "\u001B[32;1m\u001B[1;3m[llm/start]\u001B[0m \u001B[1m[1:RunTypeEnum.llm:MultiKeyChatOpenAI] Entering LLM run with input:\n",
      "\u001B[0m{\n",
      "  \"prompts\": [\n",
      "    \"Human: \\n请根据给出的信息抽取相应的参数创建订单\\n1. 通过命名实体识别先对输入的信息抽取特定的参数。抽取的数据结构如下：\\n[{\\\"receiverName\\\": \\\"\\\", \\\"receiverMobile\\\": \\\"\\\"}]\\n2. 请用命名实体识别抽取的数组参数，不做任何修改使用创建订单接口创建订单\\n\\n输入信息：\\n'''\\n客户订单号: GO202001013\\n线路标识: \\n收货地址: 火炬动力港\\n收件人姓名: 运荔枝\\n收件人电话号码: 12345678900\\n货品: 肉制品\\n数量（件数）: 1\\n总重量（KG): \\n总体积（m³）: \\n总货值（元）: \\n温层: 冷藏\\n车型: \\n取货地址: \\n取货人姓名: \\n取货人电话号码: \\n提货时间: 2023/5/6 16:00\\n送货时间: 2023/5/6 23:00\\n备注: 。\\n客户订单号: GO202001014\\n线路标识: \\n收货地址: 火炬动力港\\n收件人姓名: 鲜生活\\n收件人电话号码: 13409871234\\n货品: 肉制品\\n数量（件数）: 1\\n总重量（KG): \\n总体积（m³）: \\n总货值（元）: \\n温层: 冷藏\\n车型: \\n取货地址: \\n取货人姓名: \\n取货人电话号码: \\n提货时间: 2023/5/6 16:00\\n送货时间: 2023/5/6 23:00\\n备注: 。给刘德华（电话13400000000）送一斤吧。还有个叫张学友，电话13500000000也送。货多，不怕。哎，有个黎明，手机13600000000的是不是也应该送一斤啊？两斤吧。最后，住在灯球下的郭富城也送一单，电话是13700000000。好了，下单吧。\\n'''\"\n",
      "  ]\n",
      "}\n",
      "\u001B[36;1m\u001B[1;3m[llm/end]\u001B[0m \u001B[1m[1:RunTypeEnum.llm:MultiKeyChatOpenAI] [20.10s] Exiting LLM run with output:\n",
      "\u001B[0m{\n",
      "  \"generations\": [\n",
      "    [\n",
      "      {\n",
      "        \"text\": \"\",\n",
      "        \"generation_info\": {\n",
      "          \"finish_reason\": \"function_call\"\n",
      "        },\n",
      "        \"message\": {\n",
      "          \"lc\": 1,\n",
      "          \"type\": \"constructor\",\n",
      "          \"id\": [\n",
      "            \"langchain\",\n",
      "            \"schema\",\n",
      "            \"messages\",\n",
      "            \"AIMessage\"\n",
      "          ],\n",
      "          \"kwargs\": {\n",
      "            \"content\": \"\",\n",
      "            \"additional_kwargs\": {\n",
      "              \"function_call\": {\n",
      "                \"name\": \"do_ner\",\n",
      "                \"arguments\": \"{\\n\\\"ner_input\\\": \\\"客户订单号: GO202001013\\\\n线路标识: \\\\n收货地址: 火炬动力港\\\\n收件人姓名: 运荔枝\\\\n收件人电话号码: 12345678900\\\\n货品: 肉制品\\\\n数量（件数）: 1\\\\n总重量（KG): \\\\n总体积（m³）: \\\\n总货值（元）: \\\\n温层: 冷藏\\\\n车型: \\\\n取货地址: \\\\n取货人姓名: \\\\n取货人电话号码: \\\\n提货时间: 2023/5/6 16:00\\\\n送货时间: 2023/5/6 23:00\\\\n备注: 。\\\\n客户订单号: GO202001014\\\\n线路标识: \\\\n收货地址: 火炬动力港\\\\n收件人姓名: 鲜生活\\\\n收件人电话号码: 13409871234\\\\n货品: 肉制品\\\\n数量（件数）: 1\\\\n总重量（KG): \\\\n总体积（m³）: \\\\n总货值（元）: \\\\n温层: 冷藏\\\\n车型: \\\\n取货地址: \\\\n取货人姓名: \\\\n取货人电话号码: \\\\n提货时间: 2023/5/6 16:00\\\\n送货时间: 2023/5/6 23:00\\\\n备注: 。给刘德华（电话13400000000）送一斤吧。还有个叫张学友，电话13500000000也送。货多，不怕。哎，有个黎明，手机13600000000的是不是也应该送一斤啊？两斤吧。最后，住在灯球下的郭富城也送一单，电话是13700000000。好了，下单吧。\\\"\\n}\"\n",
      "              }\n",
      "            }\n",
      "          }\n",
      "        }\n",
      "      }\n",
      "    ]\n",
      "  ],\n",
      "  \"llm_output\": {\n",
      "    \"token_usage\": {\n",
      "      \"prompt_tokens\": 663,\n",
      "      \"completion_tokens\": 478,\n",
      "      \"total_tokens\": 1141\n",
      "    },\n",
      "    \"model_name\": \"gpt-3.5-turbo-16k-0613\"\n",
      "  },\n",
      "  \"run\": null\n",
      "}\n",
      "content='' additional_kwargs={'function_call': {'name': 'do_ner', 'arguments': '{\\n\"ner_input\": \"客户订单号: GO202001013\\\\n线路标识: \\\\n收货地址: 火炬动力港\\\\n收件人姓名: 运荔枝\\\\n收件人电话号码: 12345678900\\\\n货品: 肉制品\\\\n数量（件数）: 1\\\\n总重量（KG): \\\\n总体积（m³）: \\\\n总货值（元）: \\\\n温层: 冷藏\\\\n车型: \\\\n取货地址: \\\\n取货人姓名: \\\\n取货人电话号码: \\\\n提货时间: 2023/5/6 16:00\\\\n送货时间: 2023/5/6 23:00\\\\n备注: 。\\\\n客户订单号: GO202001014\\\\n线路标识: \\\\n收货地址: 火炬动力港\\\\n收件人姓名: 鲜生活\\\\n收件人电话号码: 13409871234\\\\n货品: 肉制品\\\\n数量（件数）: 1\\\\n总重量（KG): \\\\n总体积（m³）: \\\\n总货值（元）: \\\\n温层: 冷藏\\\\n车型: \\\\n取货地址: \\\\n取货人姓名: \\\\n取货人电话号码: \\\\n提货时间: 2023/5/6 16:00\\\\n送货时间: 2023/5/6 23:00\\\\n备注: 。给刘德华（电话13400000000）送一斤吧。还有个叫张学友，电话13500000000也送。货多，不怕。哎，有个黎明，手机13600000000的是不是也应该送一斤啊？两斤吧。最后，住在灯球下的郭富城也送一单，电话是13700000000。好了，下单吧。\"\\n}'}} example=False\n"
     ]
    }
   ],
   "source": [
    "message = llm.predict_messages(\n",
    "    [HumanMessage(content=question_format_str)], functions=functions\n",
    ")\n",
    "print(message)"
   ],
   "metadata": {
    "collapsed": false,
    "ExecuteTime": {
     "end_time": "2023-07-14T06:42:59.424271Z",
     "start_time": "2023-07-14T06:42:39.318210Z"
    }
   }
  },
  {
   "cell_type": "code",
   "execution_count": 10,
   "outputs": [
    {
     "name": "stdout",
     "output_type": "stream",
     "text": [
      "\u001B[32;1m\u001B[1;3m[llm/start]\u001B[0m \u001B[1m[1:RunTypeEnum.llm:MultiKeyChatOpenAI] Entering LLM run with input:\n",
      "\u001B[0m{\n",
      "  \"prompts\": [\n",
      "    \"System: 你是一个命名实体识别模型。我会给你抽取格式与数据，请根据示例格式抽取数据中的信息返回。\\nHuman: \\n    请严格按照抽取格式返回数据，不得抽取多的实体信息，如果指定的实体信息缺失，可以设置空值。\\n    抽取格式：\\n     [\\n        {\\n            \\\"receiverName\\\": \\\"张三\\\",\\n            \\\"receiverMobile\\\": \\\"13800000000\\\"\\n        },\\n        {\\n            \\\"receiverName\\\": \\\"李四\\\",\\n            \\\"receiverMobile\\\": \\\"13800000001\\\"\\n        }\\n     ]\\n    数据：\\n    客户订单号: GO202001013\\n线路标识: \\n收货地址: 火炬动力港\\n收件人姓名: 运荔枝\\n收件人电话号码: 12345678900\\n货品: 肉制品\\n数量（件数）: 1\\n总重量（KG): \\n总体积（m³）: \\n总货值（元）: \\n温层: 冷藏\\n车型: \\n取货地址: \\n取货人姓名: \\n取货人电话号码: \\n提货时间: 2023/5/6 16:00\\n送货时间: 2023/5/6 23:00\\n备注: 。\\n客户订单号: GO202001014\\n线路标识: \\n收货地址: 火炬动力港\\n收件人姓名: 鲜生活\\n收件人电话号码: 13409871234\\n货品: 肉制品\\n数量（件数）: 1\\n总重量（KG): \\n总体积（m³）: \\n总货值（元）: \\n温层: 冷藏\\n车型: \\n取货地址: \\n取货人姓名: \\n取货人电话号码: \\n提货时间: 2023/5/6 16:00\\n送货时间: 2023/5/6 23:00\\n备注: 。给刘德华（电话13400000000）送一斤吧。还有个叫张学友，电话13500000000也送。货多，不怕。哎，有个黎明，手机13600000000的是不是也应该送一斤啊？两斤吧。最后，住在灯球下的郭富城也送一单，电话是13700000000。好了，下单吧。\"\n",
      "  ]\n",
      "}\n",
      "\u001B[36;1m\u001B[1;3m[llm/end]\u001B[0m \u001B[1m[1:RunTypeEnum.llm:MultiKeyChatOpenAI] [7.01s] Exiting LLM run with output:\n",
      "\u001B[0m{\n",
      "  \"generations\": [\n",
      "    [\n",
      "      {\n",
      "        \"text\": \"[\\n    {\\n        \\\"receiverName\\\": \\\"运荔枝\\\",\\n        \\\"receiverMobile\\\": \\\"12345678900\\\"\\n    },\\n    {\\n        \\\"receiverName\\\": \\\"鲜生活\\\",\\n        \\\"receiverMobile\\\": \\\"13409871234\\\"\\n    },\\n    {\\n        \\\"receiverName\\\": \\\"刘德华\\\",\\n        \\\"receiverMobile\\\": \\\"13400000000\\\"\\n    },\\n    {\\n        \\\"receiverName\\\": \\\"张学友\\\",\\n        \\\"receiverMobile\\\": \\\"13500000000\\\"\\n    },\\n    {\\n        \\\"receiverName\\\": \\\"黎明\\\",\\n        \\\"receiverMobile\\\": \\\"13600000000\\\"\\n    },\\n    {\\n        \\\"receiverName\\\": \\\"郭富城\\\",\\n        \\\"receiverMobile\\\": \\\"13700000000\\\"\\n    }\\n]\",\n",
      "        \"generation_info\": {\n",
      "          \"finish_reason\": \"stop\"\n",
      "        },\n",
      "        \"message\": {\n",
      "          \"lc\": 1,\n",
      "          \"type\": \"constructor\",\n",
      "          \"id\": [\n",
      "            \"langchain\",\n",
      "            \"schema\",\n",
      "            \"messages\",\n",
      "            \"AIMessage\"\n",
      "          ],\n",
      "          \"kwargs\": {\n",
      "            \"content\": \"[\\n    {\\n        \\\"receiverName\\\": \\\"运荔枝\\\",\\n        \\\"receiverMobile\\\": \\\"12345678900\\\"\\n    },\\n    {\\n        \\\"receiverName\\\": \\\"鲜生活\\\",\\n        \\\"receiverMobile\\\": \\\"13409871234\\\"\\n    },\\n    {\\n        \\\"receiverName\\\": \\\"刘德华\\\",\\n        \\\"receiverMobile\\\": \\\"13400000000\\\"\\n    },\\n    {\\n        \\\"receiverName\\\": \\\"张学友\\\",\\n        \\\"receiverMobile\\\": \\\"13500000000\\\"\\n    },\\n    {\\n        \\\"receiverName\\\": \\\"黎明\\\",\\n        \\\"receiverMobile\\\": \\\"13600000000\\\"\\n    },\\n    {\\n        \\\"receiverName\\\": \\\"郭富城\\\",\\n        \\\"receiverMobile\\\": \\\"13700000000\\\"\\n    }\\n]\",\n",
      "            \"additional_kwargs\": {}\n",
      "          }\n",
      "        }\n",
      "      }\n",
      "    ]\n",
      "  ],\n",
      "  \"llm_output\": {\n",
      "    \"token_usage\": {\n",
      "      \"prompt_tokens\": 605,\n",
      "      \"completion_tokens\": 160,\n",
      "      \"total_tokens\": 765\n",
      "    },\n",
      "    \"model_name\": \"gpt-3.5-turbo-16k-0613\"\n",
      "  },\n",
      "  \"run\": null\n",
      "}\n",
      "[\n",
      "    {\n",
      "        \"receiverName\": \"运荔枝\",\n",
      "        \"receiverMobile\": \"12345678900\"\n",
      "    },\n",
      "    {\n",
      "        \"receiverName\": \"鲜生活\",\n",
      "        \"receiverMobile\": \"13409871234\"\n",
      "    },\n",
      "    {\n",
      "        \"receiverName\": \"刘德华\",\n",
      "        \"receiverMobile\": \"13400000000\"\n",
      "    },\n",
      "    {\n",
      "        \"receiverName\": \"张学友\",\n",
      "        \"receiverMobile\": \"13500000000\"\n",
      "    },\n",
      "    {\n",
      "        \"receiverName\": \"黎明\",\n",
      "        \"receiverMobile\": \"13600000000\"\n",
      "    },\n",
      "    {\n",
      "        \"receiverName\": \"郭富城\",\n",
      "        \"receiverMobile\": \"13700000000\"\n",
      "    }\n",
      "]\n"
     ]
    }
   ],
   "source": [
    "# 根据 LLM function calling 的返回值，调用函数\n",
    "function_kw = message.additional_kwargs['function_call']\n",
    "function_name = function_kw['name']\n",
    "function_arguments = json.loads(function_kw['arguments'])\n",
    "returned_value = cal_function(function_name, function_arguments)\n",
    "print(returned_value)"
   ],
   "metadata": {
    "collapsed": false,
    "ExecuteTime": {
     "end_time": "2023-07-14T06:43:06.438374Z",
     "start_time": "2023-07-14T06:42:59.435394Z"
    }
   }
  },
  {
   "cell_type": "markdown",
   "source": [
    "### 根据本地函数的执行结果，再次执行 function calling，并根据 LLM function calling 的返回值，调用本地函数"
   ],
   "metadata": {
    "collapsed": false
   }
  },
  {
   "cell_type": "code",
   "execution_count": 11,
   "outputs": [
    {
     "name": "stdout",
     "output_type": "stream",
     "text": [
      "\u001B[32;1m\u001B[1;3m[llm/start]\u001B[0m \u001B[1m[1:RunTypeEnum.llm:MultiKeyChatOpenAI] Entering LLM run with input:\n",
      "\u001B[0m{\n",
      "  \"prompts\": [\n",
      "    \"Human: \\n请根据给出的信息抽取相应的参数创建订单\\n1. 通过命名实体识别先对输入的信息抽取特定的参数。抽取的数据结构如下：\\n[{\\\"receiverName\\\": \\\"\\\", \\\"receiverMobile\\\": \\\"\\\"}]\\n2. 请用命名实体识别抽取的数组参数，不做任何修改使用创建订单接口创建订单\\n\\n输入信息：\\n'''\\n客户订单号: GO202001013\\n线路标识: \\n收货地址: 火炬动力港\\n收件人姓名: 运荔枝\\n收件人电话号码: 12345678900\\n货品: 肉制品\\n数量（件数）: 1\\n总重量（KG): \\n总体积（m³）: \\n总货值（元）: \\n温层: 冷藏\\n车型: \\n取货地址: \\n取货人姓名: \\n取货人电话号码: \\n提货时间: 2023/5/6 16:00\\n送货时间: 2023/5/6 23:00\\n备注: 。\\n客户订单号: GO202001014\\n线路标识: \\n收货地址: 火炬动力港\\n收件人姓名: 鲜生活\\n收件人电话号码: 13409871234\\n货品: 肉制品\\n数量（件数）: 1\\n总重量（KG): \\n总体积（m³）: \\n总货值（元）: \\n温层: 冷藏\\n车型: \\n取货地址: \\n取货人姓名: \\n取货人电话号码: \\n提货时间: 2023/5/6 16:00\\n送货时间: 2023/5/6 23:00\\n备注: 。给刘德华（电话13400000000）送一斤吧。还有个叫张学友，电话13500000000也送。货多，不怕。哎，有个黎明，手机13600000000的是不是也应该送一斤啊？两斤吧。最后，住在灯球下的郭富城也送一单，电话是13700000000。好了，下单吧。\\n'''\\n\\nAI: {'function_call': {'name': 'do_ner', 'arguments': '{\\\\n\\\"ner_input\\\": \\\"客户订单号: GO202001013\\\\\\\\n线路标识: \\\\\\\\n收货地址: 火炬动力港\\\\\\\\n收件人姓名: 运荔枝\\\\\\\\n收件人电话号码: 12345678900\\\\\\\\n货品: 肉制品\\\\\\\\n数量（件数）: 1\\\\\\\\n总重量（KG): \\\\\\\\n总体积（m³）: \\\\\\\\n总货值（元）: \\\\\\\\n温层: 冷藏\\\\\\\\n车型: \\\\\\\\n取货地址: \\\\\\\\n取货人姓名: \\\\\\\\n取货人电话号码: \\\\\\\\n提货时间: 2023/5/6 16:00\\\\\\\\n送货时间: 2023/5/6 23:00\\\\\\\\n备注: 。\\\\\\\\n客户订单号: GO202001014\\\\\\\\n线路标识: \\\\\\\\n收货地址: 火炬动力港\\\\\\\\n收件人姓名: 鲜生活\\\\\\\\n收件人电话号码: 13409871234\\\\\\\\n货品: 肉制品\\\\\\\\n数量（件数）: 1\\\\\\\\n总重量（KG): \\\\\\\\n总体积（m³）: \\\\\\\\n总货值（元）: \\\\\\\\n温层: 冷藏\\\\\\\\n车型: \\\\\\\\n取货地址: \\\\\\\\n取货人姓名: \\\\\\\\n取货人电话号码: \\\\\\\\n提货时间: 2023/5/6 16:00\\\\\\\\n送货时间: 2023/5/6 23:00\\\\\\\\n备注: 。给刘德华（电话13400000000）送一斤吧。还有个叫张学友，电话13500000000也送。货多，不怕。哎，有个黎明，手机13600000000的是不是也应该送一斤啊？两斤吧。最后，住在灯球下的郭富城也送一单，电话是13700000000。好了，下单吧。\\\"\\\\n}'}}\\nfunction: [\\n    {\\n        \\\"receiverName\\\": \\\"运荔枝\\\",\\n        \\\"receiverMobile\\\": \\\"12345678900\\\"\\n    },\\n    {\\n        \\\"receiverName\\\": \\\"鲜生活\\\",\\n        \\\"receiverMobile\\\": \\\"13409871234\\\"\\n    },\\n    {\\n        \\\"receiverName\\\": \\\"刘德华\\\",\\n        \\\"receiverMobile\\\": \\\"13400000000\\\"\\n    },\\n    {\\n        \\\"receiverName\\\": \\\"张学友\\\",\\n        \\\"receiverMobile\\\": \\\"13500000000\\\"\\n    },\\n    {\\n        \\\"receiverName\\\": \\\"黎明\\\",\\n        \\\"receiverMobile\\\": \\\"13600000000\\\"\\n    },\\n    {\\n        \\\"receiverName\\\": \\\"郭富城\\\",\\n        \\\"receiverMobile\\\": \\\"13700000000\\\"\\n    }\\n]\"\n",
      "  ]\n",
      "}\n",
      "\u001B[36;1m\u001B[1;3m[llm/end]\u001B[0m \u001B[1m[1:RunTypeEnum.llm:MultiKeyChatOpenAI] [7.64s] Exiting LLM run with output:\n",
      "\u001B[0m{\n",
      "  \"generations\": [\n",
      "    [\n",
      "      {\n",
      "        \"text\": \"\",\n",
      "        \"generation_info\": {\n",
      "          \"finish_reason\": \"function_call\"\n",
      "        },\n",
      "        \"message\": {\n",
      "          \"lc\": 1,\n",
      "          \"type\": \"constructor\",\n",
      "          \"id\": [\n",
      "            \"langchain\",\n",
      "            \"schema\",\n",
      "            \"messages\",\n",
      "            \"AIMessage\"\n",
      "          ],\n",
      "          \"kwargs\": {\n",
      "            \"content\": \"\",\n",
      "            \"additional_kwargs\": {\n",
      "              \"function_call\": {\n",
      "                \"name\": \"create_order\",\n",
      "                \"arguments\": \"{\\n  \\\"orders\\\": [\\n    {\\n      \\\"receiverName\\\": \\\"运荔枝\\\",\\n      \\\"receiverMobile\\\": \\\"12345678900\\\"\\n    },\\n    {\\n      \\\"receiverName\\\": \\\"鲜生活\\\",\\n      \\\"receiverMobile\\\": \\\"13409871234\\\"\\n    },\\n    {\\n      \\\"receiverName\\\": \\\"刘德华\\\",\\n      \\\"receiverMobile\\\": \\\"13400000000\\\"\\n    },\\n    {\\n      \\\"receiverName\\\": \\\"张学友\\\",\\n      \\\"receiverMobile\\\": \\\"13500000000\\\"\\n    },\\n    {\\n      \\\"receiverName\\\": \\\"黎明\\\",\\n      \\\"receiverMobile\\\": \\\"13600000000\\\"\\n    },\\n    {\\n      \\\"receiverName\\\": \\\"郭富城\\\",\\n      \\\"receiverMobile\\\": \\\"13700000000\\\"\\n    }\\n  ]\\n}\"\n",
      "              }\n",
      "            }\n",
      "          }\n",
      "        }\n",
      "      }\n",
      "    ]\n",
      "  ],\n",
      "  \"llm_output\": {\n",
      "    \"token_usage\": {\n",
      "      \"prompt_tokens\": 1341,\n",
      "      \"completion_tokens\": 173,\n",
      "      \"total_tokens\": 1514\n",
      "    },\n",
      "    \"model_name\": \"gpt-3.5-turbo-16k-0613\"\n",
      "  },\n",
      "  \"run\": null\n",
      "}\n",
      "content='' additional_kwargs={'function_call': {'name': 'create_order', 'arguments': '{\\n  \"orders\": [\\n    {\\n      \"receiverName\": \"运荔枝\",\\n      \"receiverMobile\": \"12345678900\"\\n    },\\n    {\\n      \"receiverName\": \"鲜生活\",\\n      \"receiverMobile\": \"13409871234\"\\n    },\\n    {\\n      \"receiverName\": \"刘德华\",\\n      \"receiverMobile\": \"13400000000\"\\n    },\\n    {\\n      \"receiverName\": \"张学友\",\\n      \"receiverMobile\": \"13500000000\"\\n    },\\n    {\\n      \"receiverName\": \"黎明\",\\n      \"receiverMobile\": \"13600000000\"\\n    },\\n    {\\n      \"receiverName\": \"郭富城\",\\n      \"receiverMobile\": \"13700000000\"\\n    }\\n  ]\\n}'}} example=False\n"
     ]
    }
   ],
   "source": [
    "from langchain.schema import AIMessage, ChatMessage\n",
    "\n",
    "# 根据第一次调用函数的返回值，让 LLM 继续回答\n",
    "second_message = llm.predict_messages(\n",
    "    [\n",
    "        HumanMessage(content=question_format_str),\n",
    "        # 把 LLM function calling 返回的 function 信息作为 AIMessage 的 content\n",
    "        AIMessage(content=str(message.additional_kwargs)),\n",
    "        ChatMessage(\n",
    "            role='function',\n",
    "            additional_kwargs = {'name': function_name},\n",
    "            content = returned_value\n",
    "        )\n",
    "    ],\n",
    "    functions=functions\n",
    ")\n",
    "print(second_message)"
   ],
   "metadata": {
    "collapsed": false,
    "ExecuteTime": {
     "end_time": "2023-07-14T06:43:14.108846Z",
     "start_time": "2023-07-14T06:43:06.439996Z"
    }
   }
  },
  {
   "cell_type": "code",
   "execution_count": 12,
   "outputs": [
    {
     "name": "stdout",
     "output_type": "stream",
     "text": [
      "create order for  运荔枝/12345678900\n",
      "\n",
      "create order for  鲜生活/13409871234\n",
      "\n",
      "create order for  刘德华/13400000000\n",
      "\n",
      "create order for  张学友/13500000000\n",
      "\n",
      "create order for  黎明/13600000000\n",
      "\n",
      "create order for  郭富城/13700000000\n",
      "\n",
      "[{'receiverName': '运荔枝', 'receiverMobile': '12345678900'}, {'receiverName': '鲜生活', 'receiverMobile': '13409871234'}, {'receiverName': '刘德华', 'receiverMobile': '13400000000'}, {'receiverName': '张学友', 'receiverMobile': '13500000000'}, {'receiverName': '黎明', 'receiverMobile': '13600000000'}, {'receiverName': '郭富城', 'receiverMobile': '13700000000'}]\n",
      "订单创建成功!\n"
     ]
    }
   ],
   "source": [
    "# 再次根据 LLM function calling 的返回值，继续调用函数\n",
    "function_kw = second_message.additional_kwargs['function_call']\n",
    "function_name = function_kw['name']\n",
    "function_arguments = json.loads(function_kw['arguments'])\n",
    "returned_value = cal_function(function_name, function_arguments)\n",
    "print(returned_value)"
   ],
   "metadata": {
    "collapsed": false,
    "ExecuteTime": {
     "end_time": "2023-07-14T06:43:14.109603Z",
     "start_time": "2023-07-14T06:43:14.101326Z"
    }
   }
  },
  {
   "cell_type": "markdown",
   "source": [
    "### 根据第二次执行本地函数的结果，让 LLM 给出最初问题的回答"
   ],
   "metadata": {
    "collapsed": false
   }
  },
  {
   "cell_type": "code",
   "execution_count": 13,
   "outputs": [
    {
     "name": "stdout",
     "output_type": "stream",
     "text": [
      "\u001B[32;1m\u001B[1;3m[llm/start]\u001B[0m \u001B[1m[1:RunTypeEnum.llm:MultiKeyChatOpenAI] Entering LLM run with input:\n",
      "\u001B[0m{\n",
      "  \"prompts\": [\n",
      "    \"Human: \\n请根据给出的信息抽取相应的参数创建订单\\n1. 通过命名实体识别先对输入的信息抽取特定的参数。抽取的数据结构如下：\\n[{\\\"receiverName\\\": \\\"\\\", \\\"receiverMobile\\\": \\\"\\\"}]\\n2. 请用命名实体识别抽取的数组参数，不做任何修改使用创建订单接口创建订单\\n\\n输入信息：\\n'''\\n客户订单号: GO202001013\\n线路标识: \\n收货地址: 火炬动力港\\n收件人姓名: 运荔枝\\n收件人电话号码: 12345678900\\n货品: 肉制品\\n数量（件数）: 1\\n总重量（KG): \\n总体积（m³）: \\n总货值（元）: \\n温层: 冷藏\\n车型: \\n取货地址: \\n取货人姓名: \\n取货人电话号码: \\n提货时间: 2023/5/6 16:00\\n送货时间: 2023/5/6 23:00\\n备注: 。\\n客户订单号: GO202001014\\n线路标识: \\n收货地址: 火炬动力港\\n收件人姓名: 鲜生活\\n收件人电话号码: 13409871234\\n货品: 肉制品\\n数量（件数）: 1\\n总重量（KG): \\n总体积（m³）: \\n总货值（元）: \\n温层: 冷藏\\n车型: \\n取货地址: \\n取货人姓名: \\n取货人电话号码: \\n提货时间: 2023/5/6 16:00\\n送货时间: 2023/5/6 23:00\\n备注: 。给刘德华（电话13400000000）送一斤吧。还有个叫张学友，电话13500000000也送。货多，不怕。哎，有个黎明，手机13600000000的是不是也应该送一斤啊？两斤吧。最后，住在灯球下的郭富城也送一单，电话是13700000000。好了，下单吧。\\n'''\\n\\nAI: {'function_call': {'name': 'do_ner', 'arguments': '{\\\\n\\\"ner_input\\\": \\\"客户订单号: GO202001013\\\\\\\\n线路标识: \\\\\\\\n收货地址: 火炬动力港\\\\\\\\n收件人姓名: 运荔枝\\\\\\\\n收件人电话号码: 12345678900\\\\\\\\n货品: 肉制品\\\\\\\\n数量（件数）: 1\\\\\\\\n总重量（KG): \\\\\\\\n总体积（m³）: \\\\\\\\n总货值（元）: \\\\\\\\n温层: 冷藏\\\\\\\\n车型: \\\\\\\\n取货地址: \\\\\\\\n取货人姓名: \\\\\\\\n取货人电话号码: \\\\\\\\n提货时间: 2023/5/6 16:00\\\\\\\\n送货时间: 2023/5/6 23:00\\\\\\\\n备注: 。\\\\\\\\n客户订单号: GO202001014\\\\\\\\n线路标识: \\\\\\\\n收货地址: 火炬动力港\\\\\\\\n收件人姓名: 鲜生活\\\\\\\\n收件人电话号码: 13409871234\\\\\\\\n货品: 肉制品\\\\\\\\n数量（件数）: 1\\\\\\\\n总重量（KG): \\\\\\\\n总体积（m³）: \\\\\\\\n总货值（元）: \\\\\\\\n温层: 冷藏\\\\\\\\n车型: \\\\\\\\n取货地址: \\\\\\\\n取货人姓名: \\\\\\\\n取货人电话号码: \\\\\\\\n提货时间: 2023/5/6 16:00\\\\\\\\n送货时间: 2023/5/6 23:00\\\\\\\\n备注: 。给刘德华（电话13400000000）送一斤吧。还有个叫张学友，电话13500000000也送。货多，不怕。哎，有个黎明，手机13600000000的是不是也应该送一斤啊？两斤吧。最后，住在灯球下的郭富城也送一单，电话是13700000000。好了，下单吧。\\\"\\\\n}'}}\\nAI: {'function_call': {'name': 'create_order', 'arguments': '{\\\\n  \\\"orders\\\": [\\\\n    {\\\\n      \\\"receiverName\\\": \\\"运荔枝\\\",\\\\n      \\\"receiverMobile\\\": \\\"12345678900\\\"\\\\n    },\\\\n    {\\\\n      \\\"receiverName\\\": \\\"鲜生活\\\",\\\\n      \\\"receiverMobile\\\": \\\"13409871234\\\"\\\\n    },\\\\n    {\\\\n      \\\"receiverName\\\": \\\"刘德华\\\",\\\\n      \\\"receiverMobile\\\": \\\"13400000000\\\"\\\\n    },\\\\n    {\\\\n      \\\"receiverName\\\": \\\"张学友\\\",\\\\n      \\\"receiverMobile\\\": \\\"13500000000\\\"\\\\n    },\\\\n    {\\\\n      \\\"receiverName\\\": \\\"黎明\\\",\\\\n      \\\"receiverMobile\\\": \\\"13600000000\\\"\\\\n    },\\\\n    {\\\\n      \\\"receiverName\\\": \\\"郭富城\\\",\\\\n      \\\"receiverMobile\\\": \\\"13700000000\\\"\\\\n    }\\\\n  ]\\\\n}'}}\\nfunction: [{'receiverName': '运荔枝', 'receiverMobile': '12345678900'}, {'receiverName': '鲜生活', 'receiverMobile': '13409871234'}, {'receiverName': '刘德华', 'receiverMobile': '13400000000'}, {'receiverName': '张学友', 'receiverMobile': '13500000000'}, {'receiverName': '黎明', 'receiverMobile': '13600000000'}, {'receiverName': '郭富城', 'receiverMobile': '13700000000'}]\\n订单创建成功!\"\n",
      "  ]\n",
      "}\n",
      "\u001B[36;1m\u001B[1;3m[llm/end]\u001B[0m \u001B[1m[1:RunTypeEnum.llm:MultiKeyChatOpenAI] [8.97s] Exiting LLM run with output:\n",
      "\u001B[0m{\n",
      "  \"generations\": [\n",
      "    [\n",
      "      {\n",
      "        \"text\": \"订单已成功创建，以下是订单的收件人信息：\\n\\n订单1：\\n收件人姓名：运荔枝\\n收件人电话号码：12345678900\\n\\n订单2：\\n收件人姓名：鲜生活\\n收件人电话号码：13409871234\\n\\n订单3：\\n收件人姓名：刘德华\\n收件人电话号码：13400000000\\n\\n订单4：\\n收件人姓名：张学友\\n收件人电话号码：13500000000\\n\\n订单5：\\n收件人姓名：黎明\\n收件人电话号码：13600000000\\n\\n订单6：\\n收件人姓名：郭富城\\n收件人电话号码：13700000000\",\n",
      "        \"generation_info\": {\n",
      "          \"finish_reason\": \"stop\"\n",
      "        },\n",
      "        \"message\": {\n",
      "          \"lc\": 1,\n",
      "          \"type\": \"constructor\",\n",
      "          \"id\": [\n",
      "            \"langchain\",\n",
      "            \"schema\",\n",
      "            \"messages\",\n",
      "            \"AIMessage\"\n",
      "          ],\n",
      "          \"kwargs\": {\n",
      "            \"content\": \"订单已成功创建，以下是订单的收件人信息：\\n\\n订单1：\\n收件人姓名：运荔枝\\n收件人电话号码：12345678900\\n\\n订单2：\\n收件人姓名：鲜生活\\n收件人电话号码：13409871234\\n\\n订单3：\\n收件人姓名：刘德华\\n收件人电话号码：13400000000\\n\\n订单4：\\n收件人姓名：张学友\\n收件人电话号码：13500000000\\n\\n订单5：\\n收件人姓名：黎明\\n收件人电话号码：13600000000\\n\\n订单6：\\n收件人姓名：郭富城\\n收件人电话号码：13700000000\",\n",
      "            \"additional_kwargs\": {}\n",
      "          }\n",
      "        }\n",
      "      }\n",
      "    ]\n",
      "  ],\n",
      "  \"llm_output\": {\n",
      "    \"token_usage\": {\n",
      "      \"prompt_tokens\": 1534,\n",
      "      \"completion_tokens\": 166,\n",
      "      \"total_tokens\": 1700\n",
      "    },\n",
      "    \"model_name\": \"gpt-3.5-turbo-16k-0613\"\n",
      "  },\n",
      "  \"run\": null\n",
      "}\n",
      "content='订单已成功创建，以下是订单的收件人信息：\\n\\n订单1：\\n收件人姓名：运荔枝\\n收件人电话号码：12345678900\\n\\n订单2：\\n收件人姓名：鲜生活\\n收件人电话号码：13409871234\\n\\n订单3：\\n收件人姓名：刘德华\\n收件人电话号码：13400000000\\n\\n订单4：\\n收件人姓名：张学友\\n收件人电话号码：13500000000\\n\\n订单5：\\n收件人姓名：黎明\\n收件人电话号码：13600000000\\n\\n订单6：\\n收件人姓名：郭富城\\n收件人电话号码：13700000000' additional_kwargs={} example=False\n"
     ]
    }
   ],
   "source": [
    "# 根据执行结果，让 LLM 得出问题回答\n",
    "result = llm.predict_messages(\n",
    "    [\n",
    "        HumanMessage(content=question_format_str),\n",
    "        AIMessage(content=str(message.additional_kwargs)),\n",
    "        AIMessage(content=str(second_message.additional_kwargs)),\n",
    "        ChatMessage(\n",
    "            role='function',\n",
    "            additional_kwargs = {'name': function_name},\n",
    "            content = returned_value\n",
    "        )\n",
    "    ], functions=functions\n",
    ")\n",
    "print(result)"
   ],
   "metadata": {
    "collapsed": false,
    "ExecuteTime": {
     "end_time": "2023-07-14T06:43:23.082055Z",
     "start_time": "2023-07-14T06:43:14.108576Z"
    }
   }
  },
  {
   "cell_type": "code",
   "execution_count": 13,
   "outputs": [],
   "source": [],
   "metadata": {
    "collapsed": false,
    "ExecuteTime": {
     "end_time": "2023-07-14T06:43:23.084420Z",
     "start_time": "2023-07-14T06:43:23.084154Z"
    }
   }
  }
 ],
 "metadata": {
  "kernelspec": {
   "display_name": "Python 3 (ipykernel)",
   "language": "python",
   "name": "python3"
  },
  "language_info": {
   "codemirror_mode": {
    "name": "ipython",
    "version": 3
   },
   "file_extension": ".py",
   "mimetype": "text/x-python",
   "name": "python",
   "nbconvert_exporter": "python",
   "pygments_lexer": "ipython3",
   "version": "3.11.3"
  }
 },
 "nbformat": 4,
 "nbformat_minor": 1
}
