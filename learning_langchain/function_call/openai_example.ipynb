{
 "cells": [
  {
   "cell_type": "markdown",
   "source": [
    "# 第一步：把问题与函数定义交给 function call，自动选择合适的函数"
   ],
   "metadata": {
    "collapsed": false
   }
  },
  {
   "cell_type": "code",
   "execution_count": 1,
   "metadata": {
    "ExecuteTime": {
     "end_time": "2023-07-03T12:03:52.560796Z",
     "start_time": "2023-07-03T12:03:52.555641Z"
    }
   },
   "outputs": [],
   "source": [
    "function_descriptions = [\n",
    "  {\n",
    "      \"name\": \"get_student_score\",\n",
    "      \"description\": \"Get the student score by given his or her name\",\n",
    "      \"parameters\": {\n",
    "          \"type\": \"object\",\n",
    "          \"properties\": {\n",
    "              \"student_name\": {\n",
    "                  \"type\": \"string\",\n",
    "                  \"description\": \"The student's name\",\n",
    "              }\n",
    "          },\n",
    "          \"required\": [\"student_name\"],\n",
    "      },\n",
    "    }\n",
    "]"
   ]
  },
  {
   "cell_type": "code",
   "execution_count": 2,
   "metadata": {
    "ExecuteTime": {
     "end_time": "2023-07-03T12:03:52.566447Z",
     "start_time": "2023-07-03T12:03:52.564239Z"
    }
   },
   "outputs": [],
   "source": [
    "user_query = \"What's the performance of Lucy in the school this year?\""
   ]
  },
  {
   "cell_type": "code",
   "execution_count": 3,
   "metadata": {
    "ExecuteTime": {
     "end_time": "2023-07-03T12:03:54.270371Z",
     "start_time": "2023-07-03T12:03:52.569777Z"
    }
   },
   "outputs": [
    {
     "name": "stdout",
     "output_type": "stream",
     "text": [
      "{\n",
      "  \"role\": \"assistant\",\n",
      "  \"content\": null,\n",
      "  \"function_call\": {\n",
      "    \"name\": \"get_student_score\",\n",
      "    \"arguments\": \"{\\n  \\\"student_name\\\": \\\"Lucy\\\"\\n}\"\n",
      "  }\n",
      "}\n"
     ]
    }
   ],
   "source": [
    "import os\n",
    "import openai\n",
    "# 运行此API配置，需要将根目录中的.env中api_key替换为自己的\n",
    "from dotenv import load_dotenv, find_dotenv\n",
    "\n",
    "# read local .env file\n",
    "load_dotenv(find_dotenv())\n",
    "\n",
    "openai.api_key = os.environ['OPENAI_API_KEY']\n",
    "model = 'gpt-3.5-turbo-16k-0613'\n",
    "response = openai.ChatCompletion.create(\n",
    "    model=model,\n",
    "    messages=[{\"role\": \"user\", \"content\": user_query}],\n",
    "    functions=function_descriptions,\n",
    "    function_call=\"auto\",\n",
    ")\n",
    "response_message = response[\"choices\"][0][\"message\"]\n",
    "print(response_message)\n",
    "name = eval(response_message['function_call']['arguments']).get(\"student_name\")"
   ]
  },
  {
   "cell_type": "markdown",
   "source": [
    "# 第二步：调用 function call 选择的函数，得到返回值"
   ],
   "metadata": {
    "collapsed": false
   }
  },
  {
   "cell_type": "code",
   "execution_count": 4,
   "metadata": {
    "ExecuteTime": {
     "end_time": "2023-07-03T12:03:54.277347Z",
     "start_time": "2023-07-03T12:03:54.272648Z"
    }
   },
   "outputs": [
    {
     "name": "stdout",
     "output_type": "stream",
     "text": [
      "get_student_score {'student_name': 'Lucy'}\n",
      "{\"name\": \"Lucy\", \"score\": 60}\n"
     ]
    }
   ],
   "source": [
    "import json\n",
    "import inspect\n",
    "\n",
    "def get_function_parameter_names(function):\n",
    "  if function is not None and inspect.isfunction(function):\n",
    "      parameter_names = inspect.signature(function).parameters.keys()\n",
    "      return list(parameter_names)\n",
    "  else:\n",
    "      return None\n",
    "\n",
    "# Locate the function and make the call\n",
    "def cal_function(_function_name, _arguments):\n",
    "    the_function = globals().get(_function_name)\n",
    "    parameter_names = get_function_parameter_names(the_function)\n",
    "    parameter_values = []\n",
    "    for parameter_name in parameter_names:\n",
    "      parameter_values.append(_arguments[parameter_name])\n",
    "    return the_function(*parameter_values)\n",
    "\n",
    "SCORES = { 'Alex': 90, 'Lucy': 60 }\n",
    "def get_student_score(student_name):\n",
    "\n",
    "    \"\"\"Get the student score by given his or her name\"\"\"\n",
    "\n",
    "    score = {\n",
    "        \"name\": student_name,\n",
    "        \"score\": SCORES[student_name]\n",
    "    }\n",
    "    return json.dumps(score)\n",
    "\n",
    "function_name = response_message[\"function_call\"][\"name\"]\n",
    "arguments = json.loads(response_message[\"function_call\"][\"arguments\"])\n",
    "print(function_name, arguments)\n",
    "returned_value = cal_function(function_name, arguments)\n",
    "print(returned_value)"
   ]
  },
  {
   "cell_type": "markdown",
   "source": [
    "# 第三步：将响应发送回模型以进行总结"
   ],
   "metadata": {
    "collapsed": false
   }
  },
  {
   "cell_type": "code",
   "execution_count": 5,
   "metadata": {
    "ExecuteTime": {
     "end_time": "2023-07-03T12:03:55.430802Z",
     "start_time": "2023-07-03T12:03:54.280746Z"
    }
   },
   "outputs": [
    {
     "name": "stdout",
     "output_type": "stream",
     "text": [
      "What's the performance of Lucy in the school this year?\n",
      "Lucy's performance in school this year is a score of 60.\n"
     ]
    }
   ],
   "source": [
    "second_response = openai.ChatCompletion.create(\n",
    "    model=model,\n",
    "    messages=[\n",
    "        {\"role\": \"user\", \"content\": user_query},\n",
    "        response_message,\n",
    "        {\n",
    "            \"role\": \"function\",\n",
    "            \"name\": \"get_student_score\",\n",
    "            \"content\": returned_value,\n",
    "        },\n",
    "    ],\n",
    ")\n",
    "print(user_query)\n",
    "print (second_response['choices'][0]['message']['content'])"
   ]
  }
 ],
 "metadata": {
  "kernelspec": {
   "display_name": "Python 3 (ipykernel)",
   "language": "python",
   "name": "python3"
  },
  "language_info": {
   "codemirror_mode": {
    "name": "ipython",
    "version": 3
   },
   "file_extension": ".py",
   "mimetype": "text/x-python",
   "name": "python",
   "nbconvert_exporter": "python",
   "pygments_lexer": "ipython3",
   "version": "3.11.3"
  }
 },
 "nbformat": 4,
 "nbformat_minor": 1
}
